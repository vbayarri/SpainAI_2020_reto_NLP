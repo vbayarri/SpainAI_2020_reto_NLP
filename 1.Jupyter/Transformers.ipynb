{
  "nbformat": 4,
  "nbformat_minor": 0,
  "metadata": {
    "colab": {
      "name": "Transformers.ipynb",
      "provenance": [],
      "authorship_tag": "ABX9TyNMtdwcyDvTzVetNFwAsWuW",
      "include_colab_link": true
    },
    "kernelspec": {
      "name": "python3",
      "display_name": "Python 3"
    }
  },
  "cells": [
    {
      "cell_type": "markdown",
      "metadata": {
        "id": "view-in-github",
        "colab_type": "text"
      },
      "source": [
        "<a href=\"https://colab.research.google.com/github/vbayarri/SpainAI_2020_reto_NLP/blob/main/1.Jupyter/Transformers.ipynb\" target=\"_parent\"><img src=\"https://colab.research.google.com/assets/colab-badge.svg\" alt=\"Open In Colab\"/></a>"
      ]
    },
    {
      "cell_type": "markdown",
      "metadata": {
        "id": "mJCblGemxLWR"
      },
      "source": [
        "# Análisis de train and test data\r\n"
      ]
    },
    {
      "cell_type": "markdown",
      "metadata": {
        "id": "whaAk4o7xzF0"
      },
      "source": [
        "## Importación de librerias"
      ]
    },
    {
      "cell_type": "code",
      "metadata": {
        "id": "-JDqwjLKx-zp"
      },
      "source": [
        "import base64\r\n",
        "import requests\r\n",
        "import io\r\n",
        "import pandas as pd"
      ],
      "execution_count": 4,
      "outputs": []
    },
    {
      "cell_type": "markdown",
      "metadata": {
        "id": "X4u5aad4xfmz"
      },
      "source": [
        "## Importación de ficheros de datos\r\n"
      ]
    },
    {
      "cell_type": "code",
      "metadata": {
        "id": "Ouh62Fz8yIHX"
      },
      "source": [
        "train = \"https://raw.githubusercontent.com/vbayarri/SpainAI_2020_reto_NLP/main/0.Dataset/train.csv\"\r\n",
        "req = requests.get(train)\r\n",
        "traindata = req.text\r\n",
        "trainpd = pd.read_csv(io.StringIO(traindata), sep=\",\", dtype=str)\r\n",
        "\r\n",
        "test = \"https://raw.githubusercontent.com/vbayarri/SpainAI_2020_reto_NLP/main/0.Dataset/test_descriptions.csv\"\r\n",
        "req = requests.get(test)\r\n",
        "testdata = req.text\r\n",
        "testpd = pd.read_csv(io.StringIO(testdata), sep=\",\", dtype=str)"
      ],
      "execution_count": 19,
      "outputs": []
    },
    {
      "cell_type": "markdown",
      "metadata": {
        "id": "WgzOGj646LIc"
      },
      "source": [
        "## Volumetrías de datos\r\n",
        "\r\n",
        "Summarize Data"
      ]
    },
    {
      "cell_type": "code",
      "metadata": {
        "id": "2m2A6w696RkI",
        "outputId": "ef5c3402-db06-4e0d-d115-f75f5d72237f",
        "colab": {
          "base_uri": "https://localhost:8080/",
          "height": 173
        }
      },
      "source": [
        "trainpd.describe()"
      ],
      "execution_count": 20,
      "outputs": [
        {
          "output_type": "execute_result",
          "data": {
            "text/html": [
              "<div>\n",
              "<style scoped>\n",
              "    .dataframe tbody tr th:only-of-type {\n",
              "        vertical-align: middle;\n",
              "    }\n",
              "\n",
              "    .dataframe tbody tr th {\n",
              "        vertical-align: top;\n",
              "    }\n",
              "\n",
              "    .dataframe thead th {\n",
              "        text-align: right;\n",
              "    }\n",
              "</style>\n",
              "<table border=\"1\" class=\"dataframe\">\n",
              "  <thead>\n",
              "    <tr style=\"text-align: right;\">\n",
              "      <th></th>\n",
              "      <th>name</th>\n",
              "      <th>description</th>\n",
              "    </tr>\n",
              "  </thead>\n",
              "  <tbody>\n",
              "    <tr>\n",
              "      <th>count</th>\n",
              "      <td>33613</td>\n",
              "      <td>33613</td>\n",
              "    </tr>\n",
              "    <tr>\n",
              "      <th>unique</th>\n",
              "      <td>23428</td>\n",
              "      <td>31593</td>\n",
              "    </tr>\n",
              "    <tr>\n",
              "      <th>top</th>\n",
              "      <td>PRINTED DRESS</td>\n",
              "      <td>Short sleeve T-shirt with a round neckline and...</td>\n",
              "    </tr>\n",
              "    <tr>\n",
              "      <th>freq</th>\n",
              "      <td>61</td>\n",
              "      <td>48</td>\n",
              "    </tr>\n",
              "  </tbody>\n",
              "</table>\n",
              "</div>"
            ],
            "text/plain": [
              "                 name                                        description\n",
              "count           33613                                              33613\n",
              "unique          23428                                              31593\n",
              "top     PRINTED DRESS  Short sleeve T-shirt with a round neckline and...\n",
              "freq               61                                                 48"
            ]
          },
          "metadata": {
            "tags": []
          },
          "execution_count": 20
        }
      ]
    },
    {
      "cell_type": "code",
      "metadata": {
        "id": "Rnz5K65N8Zl1",
        "outputId": "50919c5a-04d9-4edf-e38e-6f8a9e31e6e0",
        "colab": {
          "base_uri": "https://localhost:8080/",
          "height": 173
        }
      },
      "source": [
        "testpd.describe()"
      ],
      "execution_count": 15,
      "outputs": [
        {
          "output_type": "execute_result",
          "data": {
            "text/html": [
              "<div>\n",
              "<style scoped>\n",
              "    .dataframe tbody tr th:only-of-type {\n",
              "        vertical-align: middle;\n",
              "    }\n",
              "\n",
              "    .dataframe tbody tr th {\n",
              "        vertical-align: top;\n",
              "    }\n",
              "\n",
              "    .dataframe thead th {\n",
              "        text-align: right;\n",
              "    }\n",
              "</style>\n",
              "<table border=\"1\" class=\"dataframe\">\n",
              "  <thead>\n",
              "    <tr style=\"text-align: right;\">\n",
              "      <th></th>\n",
              "      <th>description</th>\n",
              "    </tr>\n",
              "  </thead>\n",
              "  <tbody>\n",
              "    <tr>\n",
              "      <th>count</th>\n",
              "      <td>1441</td>\n",
              "    </tr>\n",
              "    <tr>\n",
              "      <th>unique</th>\n",
              "      <td>1428</td>\n",
              "    </tr>\n",
              "    <tr>\n",
              "      <th>top</th>\n",
              "      <td>Duvet cover in 150 thread count cotton with a ...</td>\n",
              "    </tr>\n",
              "    <tr>\n",
              "      <th>freq</th>\n",
              "      <td>3</td>\n",
              "    </tr>\n",
              "  </tbody>\n",
              "</table>\n",
              "</div>"
            ],
            "text/plain": [
              "                                              description\n",
              "count                                                1441\n",
              "unique                                               1428\n",
              "top     Duvet cover in 150 thread count cotton with a ...\n",
              "freq                                                    3"
            ]
          },
          "metadata": {
            "tags": []
          },
          "execution_count": 15
        }
      ]
    }
  ]
}
