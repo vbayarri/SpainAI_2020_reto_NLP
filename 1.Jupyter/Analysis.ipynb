{
  "nbformat": 4,
  "nbformat_minor": 0,
  "metadata": {
    "colab": {
      "name": "Analysis.ipynb",
      "provenance": [],
      "authorship_tag": "ABX9TyMflr3ail+X4z6ygwGM0dxi",
      "include_colab_link": true
    },
    "kernelspec": {
      "name": "python3",
      "display_name": "Python 3"
    },
    "widgets": {
      "application/vnd.jupyter.widget-state+json": {
        "5280f69de3244fe7af03b3cca4fb2bd5": {
          "model_module": "@jupyter-widgets/controls",
          "model_name": "HBoxModel",
          "state": {
            "_view_name": "HBoxView",
            "_dom_classes": [],
            "_model_name": "HBoxModel",
            "_view_module": "@jupyter-widgets/controls",
            "_model_module_version": "1.5.0",
            "_view_count": null,
            "_view_module_version": "1.5.0",
            "box_style": "",
            "layout": "IPY_MODEL_a258fba977954826beb5e67fca2b0b2f",
            "_model_module": "@jupyter-widgets/controls",
            "children": [
              "IPY_MODEL_373b4d11c86943f9ac7b4238a4c1303d",
              "IPY_MODEL_5b3c66426c1044d6b05eccde82cb1159"
            ]
          }
        },
        "a258fba977954826beb5e67fca2b0b2f": {
          "model_module": "@jupyter-widgets/base",
          "model_name": "LayoutModel",
          "state": {
            "_view_name": "LayoutView",
            "grid_template_rows": null,
            "right": null,
            "justify_content": "space-around",
            "_view_module": "@jupyter-widgets/base",
            "overflow": null,
            "_model_module_version": "1.2.0",
            "_view_count": null,
            "flex_flow": "row",
            "width": "auto",
            "min_width": null,
            "border": null,
            "align_items": null,
            "bottom": null,
            "_model_module": "@jupyter-widgets/base",
            "top": null,
            "grid_column": null,
            "overflow_y": null,
            "overflow_x": null,
            "grid_auto_flow": null,
            "grid_area": null,
            "grid_template_columns": null,
            "flex": null,
            "_model_name": "LayoutModel",
            "justify_items": null,
            "grid_row": null,
            "max_height": null,
            "align_content": null,
            "visibility": null,
            "align_self": null,
            "height": null,
            "min_height": null,
            "padding": null,
            "grid_auto_rows": null,
            "grid_gap": null,
            "max_width": null,
            "order": null,
            "_view_module_version": "1.2.0",
            "grid_template_areas": null,
            "object_position": null,
            "object_fit": null,
            "grid_auto_columns": null,
            "margin": null,
            "display": "flex",
            "left": null
          }
        },
        "373b4d11c86943f9ac7b4238a4c1303d": {
          "model_module": "@jupyter-widgets/output",
          "model_name": "OutputModel",
          "state": {
            "_view_name": "OutputView",
            "msg_id": "",
            "_dom_classes": [],
            "_model_name": "OutputModel",
            "outputs": [
              {
                "output_type": "display_data",
                "metadata": {
                  "tags": []
                },
                "text/html": "<style  type=\"text/css\" >\n</style><table id=\"T_9849662c_5f17_11eb_99eb_0242ac1c0002\" ><caption>Train dataframe</caption><thead>    <tr>        <th class=\"blank level0\" ></th>        <th class=\"col_heading level0 col0\" >name</th>        <th class=\"col_heading level0 col1\" >description</th>    </tr></thead><tbody>\n                <tr>\n                        <th id=\"T_9849662c_5f17_11eb_99eb_0242ac1c0002level0_row0\" class=\"row_heading level0 row0\" >0</th>\n                        <td id=\"T_9849662c_5f17_11eb_99eb_0242ac1c0002row0_col0\" class=\"data row0 col0\" >CROPPED JACKET TRF</td>\n                        <td id=\"T_9849662c_5f17_11eb_99eb_0242ac1c0002row0_col1\" class=\"data row0 col1\" >Jacket made of a technical fabric with texture. High collar and long sleeves. Front pockets. Ribbed trims. Zip-up front.</td>\n            </tr>\n            <tr>\n                        <th id=\"T_9849662c_5f17_11eb_99eb_0242ac1c0002level0_row1\" class=\"row_heading level0 row1\" >1</th>\n                        <td id=\"T_9849662c_5f17_11eb_99eb_0242ac1c0002row1_col0\" class=\"data row1 col0\" >OVERSIZED SHIRT WITH POCKET TRF</td>\n                        <td id=\"T_9849662c_5f17_11eb_99eb_0242ac1c0002row1_col1\" class=\"data row1 col1\" >Oversized long sleeve shirt with a round collar. Featuring an asymmetric hem and a button-up front.<br/><br/>HEIGHT OF MODEL: 177 cm. / 69.6″</td>\n            </tr>\n            <tr>\n                        <th id=\"T_9849662c_5f17_11eb_99eb_0242ac1c0002level0_row2\" class=\"row_heading level0 row2\" >2</th>\n                        <td id=\"T_9849662c_5f17_11eb_99eb_0242ac1c0002row2_col0\" class=\"data row2 col0\" >TECHNICAL TROUSERS TRF</td>\n                        <td id=\"T_9849662c_5f17_11eb_99eb_0242ac1c0002row2_col1\" class=\"data row2 col1\" >High-waist trousers with a matching elastic waistband. Side pockets. Front darts.</td>\n            </tr>\n            <tr>\n                        <th id=\"T_9849662c_5f17_11eb_99eb_0242ac1c0002level0_row3\" class=\"row_heading level0 row3\" >3</th>\n                        <td id=\"T_9849662c_5f17_11eb_99eb_0242ac1c0002row3_col0\" class=\"data row3 col0\" >SHIRT DRESS</td>\n                        <td id=\"T_9849662c_5f17_11eb_99eb_0242ac1c0002row3_col1\" class=\"data row3 col1\" >Collared dress featuring sleeves falling below the elbow with cuffs and pleats. Front patch pockets with flaps. Gathering at the waist. Button-up front.</td>\n            </tr>\n            <tr>\n                        <th id=\"T_9849662c_5f17_11eb_99eb_0242ac1c0002level0_row4\" class=\"row_heading level0 row4\" >4</th>\n                        <td id=\"T_9849662c_5f17_11eb_99eb_0242ac1c0002row4_col0\" class=\"data row4 col0\" >PUFF SLEEVE DRESS WITH PLEATS TRF</td>\n                        <td id=\"T_9849662c_5f17_11eb_99eb_0242ac1c0002row4_col1\" class=\"data row4 col1\" >Loose-fitting midi dress with a round neckline and short puff sleeves with ruffled, elastic cuffs. Featuring side pockets, decorative pleats and a buttoned opening at the back.<br/><br/>HEIGHT OF MODEL: 177 cm. / 69.6″</td>\n            </tr>\n            <tr>\n                        <th id=\"T_9849662c_5f17_11eb_99eb_0242ac1c0002level0_row5\" class=\"row_heading level0 row5\" >5</th>\n                        <td id=\"T_9849662c_5f17_11eb_99eb_0242ac1c0002row5_col0\" class=\"data row5 col0\" >FLORAL PRINT DRESS TRF</td>\n                        <td id=\"T_9849662c_5f17_11eb_99eb_0242ac1c0002row5_col1\" class=\"data row5 col1\" >Midi dress with a round neckline and short sleeves with ruffled elastic cuffs. Pleat details and buttoned opening at the back.<br/><br/>HEIGHT OF MODEL: 177 cm. / 69.6″</td>\n            </tr>\n            <tr>\n                        <th id=\"T_9849662c_5f17_11eb_99eb_0242ac1c0002level0_row6\" class=\"row_heading level0 row6\" >6</th>\n                        <td id=\"T_9849662c_5f17_11eb_99eb_0242ac1c0002row6_col0\" class=\"data row6 col0\" >PRINTED DRESS TRF</td>\n                        <td id=\"T_9849662c_5f17_11eb_99eb_0242ac1c0002row6_col1\" class=\"data row6 col1\" >Midi dress with a shirt collar and sleeves falling below the elbow. Featuring an asymmetric hem with ruffle trims and a henley button placket.<br/><br/>HEIGHT OF MODEL: 177 cm. / 69.6″</td>\n            </tr>\n            <tr>\n                        <th id=\"T_9849662c_5f17_11eb_99eb_0242ac1c0002level0_row7\" class=\"row_heading level0 row7\" >7</th>\n                        <td id=\"T_9849662c_5f17_11eb_99eb_0242ac1c0002row7_col0\" class=\"data row7 col0\" >PRINTED MIDI DRESS TRF</td>\n                        <td id=\"T_9849662c_5f17_11eb_99eb_0242ac1c0002row7_col1\" class=\"data row7 col1\" >Dress with a round neck and long sleeves. Featuring front pleats, and elastic detail and buttoned opening at the back.<br/><br/>HEIGHT OF MODEL: 177 cm. / 69.6″</td>\n            </tr>\n            <tr>\n                        <th id=\"T_9849662c_5f17_11eb_99eb_0242ac1c0002level0_row8\" class=\"row_heading level0 row8\" >8</th>\n                        <td id=\"T_9849662c_5f17_11eb_99eb_0242ac1c0002row8_col0\" class=\"data row8 col0\" >LOOSE-FITTING TEXTURED DRESS TRF</td>\n                        <td id=\"T_9849662c_5f17_11eb_99eb_0242ac1c0002row8_col1\" class=\"data row8 col1\" >Short dress featuring a round neckline, long wide sleeves with elastic trim, lining, pleat detailing and buttoned opening at the back.<br/><br/>HEIGHT OF MODEL: 177 cm. / 69.6″</td>\n            </tr>\n            <tr>\n                        <th id=\"T_9849662c_5f17_11eb_99eb_0242ac1c0002level0_row9\" class=\"row_heading level0 row9\" >9</th>\n                        <td id=\"T_9849662c_5f17_11eb_99eb_0242ac1c0002row9_col0\" class=\"data row9 col0\" >RUFFLED PRINTED DRESS TRF</td>\n                        <td id=\"T_9849662c_5f17_11eb_99eb_0242ac1c0002row9_col1\" class=\"data row9 col1\" >Short dress featuring a round neckline and long sleeves with elasticated cuffs. Ruffle trims. Fastening with buttoned opening at the back and invisible side zip.<br/><br/></td>\n            </tr>\n    </tbody></table>",
                "text/plain": "<pandas.io.formats.style.Styler at 0x7f9c2f1f9e10>"
              },
              {
                "output_type": "display_data",
                "metadata": {
                  "tags": []
                },
                "text/html": "<div>\n<style scoped>\n    .dataframe tbody tr th:only-of-type {\n        vertical-align: middle;\n    }\n\n    .dataframe tbody tr th {\n        vertical-align: top;\n    }\n\n    .dataframe thead th {\n        text-align: right;\n    }\n</style>\n<table border=\"1\" class=\"dataframe\">\n  <thead>\n    <tr style=\"text-align: right;\">\n      <th></th>\n      <th>name</th>\n      <th>description</th>\n    </tr>\n  </thead>\n  <tbody>\n    <tr>\n      <th>count</th>\n      <td>33613</td>\n      <td>33613</td>\n    </tr>\n    <tr>\n      <th>unique</th>\n      <td>23428</td>\n      <td>31593</td>\n    </tr>\n    <tr>\n      <th>top</th>\n      <td>PRINTED DRESS</td>\n      <td>Short sleeve T-shirt with a round neckline and...</td>\n    </tr>\n    <tr>\n      <th>freq</th>\n      <td>61</td>\n      <td>48</td>\n    </tr>\n  </tbody>\n</table>\n</div>",
                "text/plain": "                 name                                        description\ncount           33613                                              33613\nunique          23428                                              31593\ntop     PRINTED DRESS  Short sleeve T-shirt with a round neckline and...\nfreq               61                                                 48"
              },
              {
                "output_type": "stream",
                "metadata": {
                  "tags": []
                },
                "text": "<class 'pandas.core.frame.DataFrame'>\nRangeIndex: 33613 entries, 0 to 33612\nData columns (total 2 columns):\n #   Column       Non-Null Count  Dtype \n---  ------       --------------  ----- \n 0   name         33613 non-null  object\n 1   description  33613 non-null  object\ndtypes: object(2)\nmemory usage: 525.3+ KB\n",
                "stream": "stdout"
              }
            ],
            "_view_module": "@jupyter-widgets/output",
            "_model_module_version": "1.0.0",
            "_view_count": null,
            "_view_module_version": "1.0.0",
            "layout": "IPY_MODEL_601785a8f9e9454c9d2d198e5e1525f7",
            "_model_module": "@jupyter-widgets/output"
          }
        },
        "5b3c66426c1044d6b05eccde82cb1159": {
          "model_module": "@jupyter-widgets/output",
          "model_name": "OutputModel",
          "state": {
            "_view_name": "OutputView",
            "msg_id": "",
            "_dom_classes": [],
            "_model_name": "OutputModel",
            "outputs": [
              {
                "output_type": "display_data",
                "metadata": {
                  "tags": []
                },
                "text/html": "<style  type=\"text/css\" >\n</style><table id=\"T_9858f1b4_5f17_11eb_99eb_0242ac1c0002\" ><caption>Test dataframe</caption><thead>    <tr>        <th class=\"blank level0\" ></th>        <th class=\"col_heading level0 col0\" >description</th>    </tr></thead><tbody>\n                <tr>\n                        <th id=\"T_9858f1b4_5f17_11eb_99eb_0242ac1c0002level0_row0\" class=\"row_heading level0 row0\" >0</th>\n                        <td id=\"T_9858f1b4_5f17_11eb_99eb_0242ac1c0002row0_col0\" class=\"data row0 col0\" >Knit midi dress with a V-neckline, straps and matching lace detail.<br/><br/>HEIGHT OF MODEL: 177 CM. / 69.6″</td>\n            </tr>\n            <tr>\n                        <th id=\"T_9858f1b4_5f17_11eb_99eb_0242ac1c0002level0_row1\" class=\"row_heading level0 row1\" >1</th>\n                        <td id=\"T_9858f1b4_5f17_11eb_99eb_0242ac1c0002row1_col0\" class=\"data row1 col0\" >Loose-fitting dress with a round neckline, long sleeves, pleat details and a buttoned opening at the back.<br/><br/>HEIGHT OF MODEL: 177 CM / 69.6″</td>\n            </tr>\n            <tr>\n                        <th id=\"T_9858f1b4_5f17_11eb_99eb_0242ac1c0002level0_row2\" class=\"row_heading level0 row2\" >2</th>\n                        <td id=\"T_9858f1b4_5f17_11eb_99eb_0242ac1c0002row2_col0\" class=\"data row2 col0\" >Nautical cap with peak.<br/><br/>This item must be returned with the original cardboard packaging intact.</td>\n            </tr>\n            <tr>\n                        <th id=\"T_9858f1b4_5f17_11eb_99eb_0242ac1c0002level0_row3\" class=\"row_heading level0 row3\" >3</th>\n                        <td id=\"T_9858f1b4_5f17_11eb_99eb_0242ac1c0002row3_col0\" class=\"data row3 col0\" >Nautical cap with peak. Adjustable inner strap detail.</td>\n            </tr>\n            <tr>\n                        <th id=\"T_9858f1b4_5f17_11eb_99eb_0242ac1c0002level0_row4\" class=\"row_heading level0 row4\" >4</th>\n                        <td id=\"T_9858f1b4_5f17_11eb_99eb_0242ac1c0002row4_col0\" class=\"data row4 col0\" >Nautical cap with side button detail.<br/><br/>This item must be returned with the original cardboard packaging intact.</td>\n            </tr>\n            <tr>\n                        <th id=\"T_9858f1b4_5f17_11eb_99eb_0242ac1c0002level0_row5\" class=\"row_heading level0 row5\" >5</th>\n                        <td id=\"T_9858f1b4_5f17_11eb_99eb_0242ac1c0002row5_col0\" class=\"data row5 col0\" >Faded short sleeve T-shirt with a round neckline and a front print.<br/><br/>Due to the dyeing process, the print on each T-shirt is unique and may differ from what is shown in the photo.<br/><br/>HEIGHT OF MODEL: 177 cm. / 69.6″</td>\n            </tr>\n            <tr>\n                        <th id=\"T_9858f1b4_5f17_11eb_99eb_0242ac1c0002level0_row6\" class=\"row_heading level0 row6\" >6</th>\n                        <td id=\"T_9858f1b4_5f17_11eb_99eb_0242ac1c0002row6_col0\" class=\"data row6 col0\" >Coat with a round collar and long sleeves. Featuring front welt pockets, faux suede interior and button fastening on the front. <br/><br/>HEIGHT OF MODEL: 177 cm. / 69.6″</td>\n            </tr>\n            <tr>\n                        <th id=\"T_9858f1b4_5f17_11eb_99eb_0242ac1c0002level0_row7\" class=\"row_heading level0 row7\" >7</th>\n                        <td id=\"T_9858f1b4_5f17_11eb_99eb_0242ac1c0002row7_col0\" class=\"data row7 col0\" >Ripped T-shirt. Round neck and short sleeves<br/><br/>HEIGHT OF MODEL 176</td>\n            </tr>\n            <tr>\n                        <th id=\"T_9858f1b4_5f17_11eb_99eb_0242ac1c0002level0_row8\" class=\"row_heading level0 row8\" >8</th>\n                        <td id=\"T_9858f1b4_5f17_11eb_99eb_0242ac1c0002row8_col0\" class=\"data row8 col0\" >Fitted top made from a polyamide blend. Features wide straps and chest reinforcement.<br/><br/>MODEL HEIGHT: 178 CM</td>\n            </tr>\n            <tr>\n                        <th id=\"T_9858f1b4_5f17_11eb_99eb_0242ac1c0002level0_row9\" class=\"row_heading level0 row9\" >9</th>\n                        <td id=\"T_9858f1b4_5f17_11eb_99eb_0242ac1c0002row9_col0\" class=\"data row9 col0\" >Fitted top made from a polyamide blend. Features wide straps and chest reinforcement.<br/><br/>MODEL HEIGHT: 177 CM / 69.6″</td>\n            </tr>\n    </tbody></table>",
                "text/plain": "<pandas.io.formats.style.Styler at 0x7f9c2e6a8470>"
              },
              {
                "output_type": "display_data",
                "metadata": {
                  "tags": []
                },
                "text/html": "<div>\n<style scoped>\n    .dataframe tbody tr th:only-of-type {\n        vertical-align: middle;\n    }\n\n    .dataframe tbody tr th {\n        vertical-align: top;\n    }\n\n    .dataframe thead th {\n        text-align: right;\n    }\n</style>\n<table border=\"1\" class=\"dataframe\">\n  <thead>\n    <tr style=\"text-align: right;\">\n      <th></th>\n      <th>description</th>\n    </tr>\n  </thead>\n  <tbody>\n    <tr>\n      <th>count</th>\n      <td>1441</td>\n    </tr>\n    <tr>\n      <th>unique</th>\n      <td>1428</td>\n    </tr>\n    <tr>\n      <th>top</th>\n      <td>Duvet cover in 150 thread count cotton with a ...</td>\n    </tr>\n    <tr>\n      <th>freq</th>\n      <td>3</td>\n    </tr>\n  </tbody>\n</table>\n</div>",
                "text/plain": "                                              description\ncount                                                1441\nunique                                               1428\ntop     Duvet cover in 150 thread count cotton with a ...\nfreq                                                    3"
              },
              {
                "output_type": "stream",
                "metadata": {
                  "tags": []
                },
                "text": "<class 'pandas.core.frame.DataFrame'>\nRangeIndex: 1441 entries, 0 to 1440\nData columns (total 1 columns):\n #   Column       Non-Null Count  Dtype \n---  ------       --------------  ----- \n 0   description  1441 non-null   object\ndtypes: object(1)\nmemory usage: 11.4+ KB\n",
                "stream": "stdout"
              }
            ],
            "_view_module": "@jupyter-widgets/output",
            "_model_module_version": "1.0.0",
            "_view_count": null,
            "_view_module_version": "1.0.0",
            "layout": "IPY_MODEL_d596352253a447b980d4e10f73e64cf9",
            "_model_module": "@jupyter-widgets/output"
          }
        },
        "601785a8f9e9454c9d2d198e5e1525f7": {
          "model_module": "@jupyter-widgets/base",
          "model_name": "LayoutModel",
          "state": {
            "_view_name": "LayoutView",
            "grid_template_rows": null,
            "right": null,
            "justify_content": null,
            "_view_module": "@jupyter-widgets/base",
            "overflow": null,
            "_model_module_version": "1.2.0",
            "_view_count": null,
            "flex_flow": null,
            "width": null,
            "min_width": null,
            "border": null,
            "align_items": null,
            "bottom": null,
            "_model_module": "@jupyter-widgets/base",
            "top": null,
            "grid_column": null,
            "overflow_y": null,
            "overflow_x": null,
            "grid_auto_flow": null,
            "grid_area": null,
            "grid_template_columns": null,
            "flex": null,
            "_model_name": "LayoutModel",
            "justify_items": null,
            "grid_row": null,
            "max_height": null,
            "align_content": null,
            "visibility": null,
            "align_self": null,
            "height": null,
            "min_height": null,
            "padding": null,
            "grid_auto_rows": null,
            "grid_gap": null,
            "max_width": null,
            "order": null,
            "_view_module_version": "1.2.0",
            "grid_template_areas": null,
            "object_position": null,
            "object_fit": null,
            "grid_auto_columns": null,
            "margin": null,
            "display": null,
            "left": null
          }
        },
        "d596352253a447b980d4e10f73e64cf9": {
          "model_module": "@jupyter-widgets/base",
          "model_name": "LayoutModel",
          "state": {
            "_view_name": "LayoutView",
            "grid_template_rows": null,
            "right": null,
            "justify_content": null,
            "_view_module": "@jupyter-widgets/base",
            "overflow": null,
            "_model_module_version": "1.2.0",
            "_view_count": null,
            "flex_flow": null,
            "width": null,
            "min_width": null,
            "border": null,
            "align_items": null,
            "bottom": null,
            "_model_module": "@jupyter-widgets/base",
            "top": null,
            "grid_column": null,
            "overflow_y": null,
            "overflow_x": null,
            "grid_auto_flow": null,
            "grid_area": null,
            "grid_template_columns": null,
            "flex": null,
            "_model_name": "LayoutModel",
            "justify_items": null,
            "grid_row": null,
            "max_height": null,
            "align_content": null,
            "visibility": null,
            "align_self": null,
            "height": null,
            "min_height": null,
            "padding": null,
            "grid_auto_rows": null,
            "grid_gap": null,
            "max_width": null,
            "order": null,
            "_view_module_version": "1.2.0",
            "grid_template_areas": null,
            "object_position": null,
            "object_fit": null,
            "grid_auto_columns": null,
            "margin": null,
            "display": null,
            "left": null
          }
        }
      }
    },
    "accelerator": "GPU"
  },
  "cells": [
    {
      "cell_type": "markdown",
      "metadata": {
        "id": "view-in-github",
        "colab_type": "text"
      },
      "source": [
        "<a href=\"https://colab.research.google.com/github/vbayarri/SpainAI_2020_reto_NLP/blob/main/1.Jupyter/Analysis.ipynb\" target=\"_parent\"><img src=\"https://colab.research.google.com/assets/colab-badge.svg\" alt=\"Open In Colab\"/></a>"
      ]
    },
    {
      "cell_type": "markdown",
      "metadata": {
        "id": "mJCblGemxLWR"
      },
      "source": [
        "# Análisis de train and test data\r\n"
      ]
    },
    {
      "cell_type": "markdown",
      "metadata": {
        "id": "whaAk4o7xzF0"
      },
      "source": [
        "## Importación de librerias"
      ]
    },
    {
      "cell_type": "code",
      "metadata": {
        "id": "-JDqwjLKx-zp"
      },
      "source": [
        "import base64\r\n",
        "import requests\r\n",
        "import io\r\n",
        "import matplotlib.pyplot as plt\r\n",
        "import matplotlib.ticker as mtick\r\n",
        "import pandas as pd\r\n",
        "\r\n",
        "from ipywidgets import widgets, Layout\r\n",
        "from IPython.core.display import display, HTML\r\n",
        "\r\n",
        "%matplotlib inline\r\n",
        "\r\n",
        "# Cool display option\r\n",
        "def display_side_by_side(dfs:list, captions:list):\r\n",
        "    \"\"\"Display tables side by side to save vertical space\r\n",
        "    Input:\r\n",
        "        dfs: list of pandas.DataFrame\r\n",
        "        captions: list of table captions\r\n",
        "    \"\"\"\r\n",
        "    output = \"\"\r\n",
        "    combined = dict(zip(captions, dfs))\r\n",
        "    for caption, df in combined.items():\r\n",
        "        output += df.style.set_table_attributes(\"style='display:inline'\").set_caption(caption)._repr_html_()\r\n",
        "        output += \"\\xa0\\xa0\\xa0\"\r\n",
        "    display(HTML(output))"
      ],
      "execution_count": 1,
      "outputs": []
    },
    {
      "cell_type": "markdown",
      "metadata": {
        "id": "X4u5aad4xfmz"
      },
      "source": [
        "## Importación de ficheros de datos\r\n"
      ]
    },
    {
      "cell_type": "code",
      "metadata": {
        "id": "Ouh62Fz8yIHX"
      },
      "source": [
        "train = \"https://raw.githubusercontent.com/vbayarri/SpainAI_2020_reto_NLP/main/0.Dataset/train.csv\"\r\n",
        "req = requests.get(train)\r\n",
        "traindata = req.text\r\n",
        "trainpd = pd.read_csv(io.StringIO(traindata), sep=\",\", dtype=str)\r\n",
        "\r\n",
        "test = \"https://raw.githubusercontent.com/vbayarri/SpainAI_2020_reto_NLP/main/0.Dataset/test_descriptions.csv\"\r\n",
        "req = requests.get(test)\r\n",
        "testdata = req.text\r\n",
        "testpd = pd.read_csv(io.StringIO(testdata), sep=\",\", dtype=str)"
      ],
      "execution_count": 2,
      "outputs": []
    },
    {
      "cell_type": "markdown",
      "metadata": {
        "id": "WgzOGj646LIc"
      },
      "source": [
        "## Volumetrías de datos\r\n",
        "\r\n",
        "Summarize Data"
      ]
    },
    {
      "cell_type": "code",
      "metadata": {
        "id": "2m2A6w696RkI",
        "colab": {
          "base_uri": "https://localhost:8080/",
          "height": 950,
          "referenced_widgets": [
            "5280f69de3244fe7af03b3cca4fb2bd5",
            "a258fba977954826beb5e67fca2b0b2f",
            "373b4d11c86943f9ac7b4238a4c1303d",
            "5b3c66426c1044d6b05eccde82cb1159",
            "601785a8f9e9454c9d2d198e5e1525f7",
            "d596352253a447b980d4e10f73e64cf9"
          ]
        },
        "outputId": "21748e98-5e2a-4224-d4dd-656194eacb9c"
      },
      "source": [
        "# create output widgets\r\n",
        "widget1 = widgets.Output()\r\n",
        "widget2 = widgets.Output()\r\n",
        "\r\n",
        "# render in output widgets\r\n",
        "with widget1:\r\n",
        "    display(trainpd.head(10).style.set_caption('Train dataframe'))\r\n",
        "    display(trainpd.describe())\r\n",
        "    trainpd.info()\r\n",
        "with widget2:\r\n",
        "    display(testpd.head(10).style.set_caption('Test dataframe'))\r\n",
        "    display(testpd.describe())\r\n",
        "    testpd.info()\r\n",
        "\r\n",
        "# add some CSS styles to distribute free space\r\n",
        "box_layout = Layout(display='flex',\r\n",
        "                    flex_flow='row',\r\n",
        "                    justify_content='space-around',\r\n",
        "                    width='auto'\r\n",
        "                   )\r\n",
        "    \r\n",
        "# create Horisontal Box container\r\n",
        "hbox = widgets.HBox([widget1, widget2], layout=box_layout)\r\n",
        "\r\n",
        "# render hbox\r\n",
        "hbox"
      ],
      "execution_count": 3,
      "outputs": [
        {
          "output_type": "display_data",
          "data": {
            "application/vnd.jupyter.widget-view+json": {
              "model_id": "5280f69de3244fe7af03b3cca4fb2bd5",
              "version_minor": 0,
              "version_major": 2
            },
            "text/plain": [
              "HBox(children=(Output(), Output()), layout=Layout(display='flex', flex_flow='row', justify_content='space-arou…"
            ]
          },
          "metadata": {
            "tags": []
          }
        }
      ]
    },
    {
      "cell_type": "code",
      "metadata": {
        "id": "WpWARcrKmxJz",
        "colab": {
          "base_uri": "https://localhost:8080/",
          "height": 359
        },
        "outputId": "3269bb14-75a8-4630-c753-3cd16a49f1b7"
      },
      "source": [
        "trainpd['chars_name'] = trainpd['name'].apply(lambda x : len(x))\r\n",
        "trainpd['words_name'] = trainpd['name'].apply(lambda x : len(x.split()))\r\n",
        "\r\n",
        "trainpd['chars_description'] = trainpd['description'].apply(lambda x : len(x))\r\n",
        "trainpd['words_description'] = trainpd['description'].apply(lambda x : len(x.split()))\r\n",
        "trainpd['lines_description'] = trainpd['description'].apply(lambda x : len(x.split('\\n')))\r\n",
        "\r\n",
        "trainpd.head(10)"
      ],
      "execution_count": 10,
      "outputs": [
        {
          "output_type": "execute_result",
          "data": {
            "text/html": [
              "<div>\n",
              "<style scoped>\n",
              "    .dataframe tbody tr th:only-of-type {\n",
              "        vertical-align: middle;\n",
              "    }\n",
              "\n",
              "    .dataframe tbody tr th {\n",
              "        vertical-align: top;\n",
              "    }\n",
              "\n",
              "    .dataframe thead th {\n",
              "        text-align: right;\n",
              "    }\n",
              "</style>\n",
              "<table border=\"1\" class=\"dataframe\">\n",
              "  <thead>\n",
              "    <tr style=\"text-align: right;\">\n",
              "      <th></th>\n",
              "      <th>name</th>\n",
              "      <th>description</th>\n",
              "      <th>chars_name</th>\n",
              "      <th>words_name</th>\n",
              "      <th>chars_description</th>\n",
              "      <th>words_description</th>\n",
              "      <th>lines_description</th>\n",
              "    </tr>\n",
              "  </thead>\n",
              "  <tbody>\n",
              "    <tr>\n",
              "      <th>0</th>\n",
              "      <td>CROPPED JACKET TRF</td>\n",
              "      <td>Jacket made of a technical fabric with texture...</td>\n",
              "      <td>18</td>\n",
              "      <td>3</td>\n",
              "      <td>120</td>\n",
              "      <td>19</td>\n",
              "      <td>1</td>\n",
              "    </tr>\n",
              "    <tr>\n",
              "      <th>1</th>\n",
              "      <td>OVERSIZED SHIRT WITH POCKET TRF</td>\n",
              "      <td>Oversized long sleeve shirt with a round colla...</td>\n",
              "      <td>31</td>\n",
              "      <td>5</td>\n",
              "      <td>141</td>\n",
              "      <td>22</td>\n",
              "      <td>1</td>\n",
              "    </tr>\n",
              "    <tr>\n",
              "      <th>2</th>\n",
              "      <td>TECHNICAL TROUSERS TRF</td>\n",
              "      <td>High-waist trousers with a matching elastic wa...</td>\n",
              "      <td>22</td>\n",
              "      <td>3</td>\n",
              "      <td>81</td>\n",
              "      <td>11</td>\n",
              "      <td>1</td>\n",
              "    </tr>\n",
              "    <tr>\n",
              "      <th>3</th>\n",
              "      <td>SHIRT DRESS</td>\n",
              "      <td>Collared dress featuring sleeves falling below...</td>\n",
              "      <td>11</td>\n",
              "      <td>2</td>\n",
              "      <td>152</td>\n",
              "      <td>23</td>\n",
              "      <td>1</td>\n",
              "    </tr>\n",
              "    <tr>\n",
              "      <th>4</th>\n",
              "      <td>PUFF SLEEVE DRESS WITH PLEATS TRF</td>\n",
              "      <td>Loose-fitting midi dress with a round neckline...</td>\n",
              "      <td>33</td>\n",
              "      <td>6</td>\n",
              "      <td>218</td>\n",
              "      <td>33</td>\n",
              "      <td>1</td>\n",
              "    </tr>\n",
              "    <tr>\n",
              "      <th>5</th>\n",
              "      <td>FLORAL PRINT DRESS TRF</td>\n",
              "      <td>Midi dress with a round neckline and short sle...</td>\n",
              "      <td>22</td>\n",
              "      <td>4</td>\n",
              "      <td>168</td>\n",
              "      <td>27</td>\n",
              "      <td>1</td>\n",
              "    </tr>\n",
              "    <tr>\n",
              "      <th>6</th>\n",
              "      <td>PRINTED DRESS TRF</td>\n",
              "      <td>Midi dress with a shirt collar and sleeves fal...</td>\n",
              "      <td>17</td>\n",
              "      <td>3</td>\n",
              "      <td>184</td>\n",
              "      <td>30</td>\n",
              "      <td>1</td>\n",
              "    </tr>\n",
              "    <tr>\n",
              "      <th>7</th>\n",
              "      <td>PRINTED MIDI DRESS TRF</td>\n",
              "      <td>Dress with a round neck and long sleeves. Feat...</td>\n",
              "      <td>22</td>\n",
              "      <td>4</td>\n",
              "      <td>160</td>\n",
              "      <td>26</td>\n",
              "      <td>1</td>\n",
              "    </tr>\n",
              "    <tr>\n",
              "      <th>8</th>\n",
              "      <td>LOOSE-FITTING TEXTURED DRESS TRF</td>\n",
              "      <td>Short dress featuring a round neckline, long w...</td>\n",
              "      <td>32</td>\n",
              "      <td>4</td>\n",
              "      <td>176</td>\n",
              "      <td>27</td>\n",
              "      <td>1</td>\n",
              "    </tr>\n",
              "    <tr>\n",
              "      <th>9</th>\n",
              "      <td>RUFFLED PRINTED DRESS TRF</td>\n",
              "      <td>Short dress featuring a round neckline and lon...</td>\n",
              "      <td>25</td>\n",
              "      <td>4</td>\n",
              "      <td>171</td>\n",
              "      <td>25</td>\n",
              "      <td>1</td>\n",
              "    </tr>\n",
              "  </tbody>\n",
              "</table>\n",
              "</div>"
            ],
            "text/plain": [
              "                                name  ... lines_description\n",
              "0                 CROPPED JACKET TRF  ...                 1\n",
              "1    OVERSIZED SHIRT WITH POCKET TRF  ...                 1\n",
              "2             TECHNICAL TROUSERS TRF  ...                 1\n",
              "3                        SHIRT DRESS  ...                 1\n",
              "4  PUFF SLEEVE DRESS WITH PLEATS TRF  ...                 1\n",
              "5             FLORAL PRINT DRESS TRF  ...                 1\n",
              "6                  PRINTED DRESS TRF  ...                 1\n",
              "7             PRINTED MIDI DRESS TRF  ...                 1\n",
              "8   LOOSE-FITTING TEXTURED DRESS TRF  ...                 1\n",
              "9          RUFFLED PRINTED DRESS TRF  ...                 1\n",
              "\n",
              "[10 rows x 7 columns]"
            ]
          },
          "metadata": {
            "tags": []
          },
          "execution_count": 10
        }
      ]
    },
    {
      "cell_type": "code",
      "metadata": {
        "id": "IhhXrrfXqmHu",
        "colab": {
          "base_uri": "https://localhost:8080/",
          "height": 359
        },
        "outputId": "1faec306-78c6-4520-d187-0e64e41b930e"
      },
      "source": [
        "testpd['chars_description'] = testpd['description'].apply(lambda x : len(x))\r\n",
        "testpd['words_description'] = testpd['description'].apply(lambda x : len(x.split()))\r\n",
        "testpd['lines_description'] = testpd['description'].apply(lambda x : len(x.split('\\n')))\r\n",
        "\r\n",
        "testpd.head(10)"
      ],
      "execution_count": 11,
      "outputs": [
        {
          "output_type": "execute_result",
          "data": {
            "text/html": [
              "<div>\n",
              "<style scoped>\n",
              "    .dataframe tbody tr th:only-of-type {\n",
              "        vertical-align: middle;\n",
              "    }\n",
              "\n",
              "    .dataframe tbody tr th {\n",
              "        vertical-align: top;\n",
              "    }\n",
              "\n",
              "    .dataframe thead th {\n",
              "        text-align: right;\n",
              "    }\n",
              "</style>\n",
              "<table border=\"1\" class=\"dataframe\">\n",
              "  <thead>\n",
              "    <tr style=\"text-align: right;\">\n",
              "      <th></th>\n",
              "      <th>description</th>\n",
              "      <th>chars_description</th>\n",
              "      <th>words_description</th>\n",
              "      <th>lines_description</th>\n",
              "    </tr>\n",
              "  </thead>\n",
              "  <tbody>\n",
              "    <tr>\n",
              "      <th>0</th>\n",
              "      <td>Knit midi dress with a V-neckline, straps and ...</td>\n",
              "      <td>109</td>\n",
              "      <td>17</td>\n",
              "      <td>1</td>\n",
              "    </tr>\n",
              "    <tr>\n",
              "      <th>1</th>\n",
              "      <td>Loose-fitting dress with a round neckline, lon...</td>\n",
              "      <td>147</td>\n",
              "      <td>23</td>\n",
              "      <td>1</td>\n",
              "    </tr>\n",
              "    <tr>\n",
              "      <th>2</th>\n",
              "      <td>Nautical cap with peak.&lt;br/&gt;&lt;br/&gt;This item mus...</td>\n",
              "      <td>105</td>\n",
              "      <td>14</td>\n",
              "      <td>1</td>\n",
              "    </tr>\n",
              "    <tr>\n",
              "      <th>3</th>\n",
              "      <td>Nautical cap with peak. Adjustable inner strap...</td>\n",
              "      <td>54</td>\n",
              "      <td>8</td>\n",
              "      <td>1</td>\n",
              "    </tr>\n",
              "    <tr>\n",
              "      <th>4</th>\n",
              "      <td>Nautical cap with side button detail.&lt;br/&gt;&lt;br/...</td>\n",
              "      <td>119</td>\n",
              "      <td>16</td>\n",
              "      <td>1</td>\n",
              "    </tr>\n",
              "    <tr>\n",
              "      <th>5</th>\n",
              "      <td>Faded short sleeve T-shirt with a round neckli...</td>\n",
              "      <td>229</td>\n",
              "      <td>39</td>\n",
              "      <td>1</td>\n",
              "    </tr>\n",
              "    <tr>\n",
              "      <th>6</th>\n",
              "      <td>Coat with a round collar and long sleeves. Fea...</td>\n",
              "      <td>170</td>\n",
              "      <td>28</td>\n",
              "      <td>1</td>\n",
              "    </tr>\n",
              "    <tr>\n",
              "      <th>7</th>\n",
              "      <td>Ripped T-shirt. Round neck and short sleeves&lt;b...</td>\n",
              "      <td>73</td>\n",
              "      <td>10</td>\n",
              "      <td>1</td>\n",
              "    </tr>\n",
              "    <tr>\n",
              "      <th>8</th>\n",
              "      <td>Fitted top made from a polyamide blend. Featur...</td>\n",
              "      <td>115</td>\n",
              "      <td>16</td>\n",
              "      <td>1</td>\n",
              "    </tr>\n",
              "    <tr>\n",
              "      <th>9</th>\n",
              "      <td>Fitted top made from a polyamide blend. Featur...</td>\n",
              "      <td>123</td>\n",
              "      <td>18</td>\n",
              "      <td>1</td>\n",
              "    </tr>\n",
              "  </tbody>\n",
              "</table>\n",
              "</div>"
            ],
            "text/plain": [
              "                                         description  ...  lines_description\n",
              "0  Knit midi dress with a V-neckline, straps and ...  ...                  1\n",
              "1  Loose-fitting dress with a round neckline, lon...  ...                  1\n",
              "2  Nautical cap with peak.<br/><br/>This item mus...  ...                  1\n",
              "3  Nautical cap with peak. Adjustable inner strap...  ...                  1\n",
              "4  Nautical cap with side button detail.<br/><br/...  ...                  1\n",
              "5  Faded short sleeve T-shirt with a round neckli...  ...                  1\n",
              "6  Coat with a round collar and long sleeves. Fea...  ...                  1\n",
              "7  Ripped T-shirt. Round neck and short sleeves<b...  ...                  1\n",
              "8  Fitted top made from a polyamide blend. Featur...  ...                  1\n",
              "9  Fitted top made from a polyamide blend. Featur...  ...                  1\n",
              "\n",
              "[10 rows x 4 columns]"
            ]
          },
          "metadata": {
            "tags": []
          },
          "execution_count": 11
        }
      ]
    },
    {
      "cell_type": "code",
      "metadata": {
        "colab": {
          "base_uri": "https://localhost:8080/",
          "height": 265
        },
        "id": "m4n0MWdNGDLE",
        "outputId": "47231e5e-3e65-420b-bc2a-6e323fd0a407"
      },
      "source": [
        "## Estatistics about columns\r\n",
        "\r\n",
        "trainpd['chars_name'] = len(trainpd['name'])\r\n",
        "trainpd.head(10)\r\n",
        "trainpd['words_name'] = len(trainpd['name'])\r\n",
        "\r\n",
        "\r\n",
        "name_len = []\r\n",
        "description_len=[]\r\n",
        "trainpd['name'].map(lambda x : name_len.append(len(x.split())))\r\n",
        "trainpd['description'].map(lambda x : description_len.append(len(x.split())))\r\n",
        "    \r\n",
        "plt.hist(name_len)\r\n",
        "plt.show()"
      ],
      "execution_count": 6,
      "outputs": [
        {
          "output_type": "display_data",
          "data": {
            "image/png": "[encoded data removed]",
            "text/plain": [
              "<Figure size 432x288 with 1 Axes>"
            ]
          },
          "metadata": {
            "tags": [],
            "needs_background": "light"
          }
        }
      ]
    },
    {
      "cell_type": "code",
      "metadata": {
        "colab": {
          "base_uri": "https://localhost:8080/",
          "height": 268
        },
        "id": "kII71syOGbTH",
        "outputId": "dfa4aa4a-f025-41ba-eb4e-f5cfae04b1ea"
      },
      "source": [
        "plt.hist(description_len)\r\n",
        "plt.show()"
      ],
      "execution_count": 7,
      "outputs": [
        {
          "output_type": "display_data",
          "data": {
            "image/png": "[encoded data removed]",
            "text/plain": [
              "<Figure size 432x288 with 1 Axes>"
            ]
          },
          "metadata": {
            "tags": [],
            "needs_background": "light"
          }
        }
      ]
    }
  ]
}