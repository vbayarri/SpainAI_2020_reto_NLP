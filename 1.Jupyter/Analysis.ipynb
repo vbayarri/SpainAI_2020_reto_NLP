{
  "nbformat": 4,
  "nbformat_minor": 0,
  "metadata": {
    "colab": {
      "name": "Analysis.ipynb",
      "provenance": [],
      "authorship_tag": "ABX9TyNdRwSqRZ83eKfEcktJz91/",
      "include_colab_link": true
    },
    "kernelspec": {
      "name": "python3",
      "display_name": "Python 3"
    },
    "widgets": {
      "application/vnd.jupyter.widget-state+json": {
        "807b0c3963194e02932cbd2e0a5393c6": {
          "model_module": "@jupyter-widgets/controls",
          "model_name": "HBoxModel",
          "state": {
            "_view_name": "HBoxView",
            "_dom_classes": [],
            "_model_name": "HBoxModel",
            "_view_module": "@jupyter-widgets/controls",
            "_model_module_version": "1.5.0",
            "_view_count": null,
            "_view_module_version": "1.5.0",
            "box_style": "",
            "layout": "IPY_MODEL_fc4f54ae620941e5935f744b319fbf66",
            "_model_module": "@jupyter-widgets/controls",
            "children": [
              "IPY_MODEL_02bc0c23c50f44c49674ec385672b32e",
              "IPY_MODEL_28b463d986ef4346a7ec0c5e113041a1"
            ]
          }
        },
        "fc4f54ae620941e5935f744b319fbf66": {
          "model_module": "@jupyter-widgets/base",
          "model_name": "LayoutModel",
          "state": {
            "_view_name": "LayoutView",
            "grid_template_rows": null,
            "right": null,
            "justify_content": "space-around",
            "_view_module": "@jupyter-widgets/base",
            "overflow": null,
            "_model_module_version": "1.2.0",
            "_view_count": null,
            "flex_flow": "row",
            "width": "auto",
            "min_width": null,
            "border": null,
            "align_items": null,
            "bottom": null,
            "_model_module": "@jupyter-widgets/base",
            "top": null,
            "grid_column": null,
            "overflow_y": null,
            "overflow_x": null,
            "grid_auto_flow": null,
            "grid_area": null,
            "grid_template_columns": null,
            "flex": null,
            "_model_name": "LayoutModel",
            "justify_items": null,
            "grid_row": null,
            "max_height": null,
            "align_content": null,
            "visibility": null,
            "align_self": null,
            "height": null,
            "min_height": null,
            "padding": null,
            "grid_auto_rows": null,
            "grid_gap": null,
            "max_width": null,
            "order": null,
            "_view_module_version": "1.2.0",
            "grid_template_areas": null,
            "object_position": null,
            "object_fit": null,
            "grid_auto_columns": null,
            "margin": null,
            "display": "flex",
            "left": null
          }
        },
        "02bc0c23c50f44c49674ec385672b32e": {
          "model_module": "@jupyter-widgets/output",
          "model_name": "OutputModel",
          "state": {
            "_view_name": "OutputView",
            "msg_id": "",
            "_dom_classes": [],
            "_model_name": "OutputModel",
            "outputs": [
              {
                "output_type": "display_data",
                "metadata": {
                  "tags": []
                },
                "text/html": "<style  type=\"text/css\" >\n</style><table id=\"T_1b4b415c_5f32_11eb_966d_0242ac1c0002\" ><caption>Train dataframe</caption><thead>    <tr>        <th class=\"blank level0\" ></th>        <th class=\"col_heading level0 col0\" >name</th>        <th class=\"col_heading level0 col1\" >description</th>    </tr></thead><tbody>\n                <tr>\n                        <th id=\"T_1b4b415c_5f32_11eb_966d_0242ac1c0002level0_row0\" class=\"row_heading level0 row0\" >0</th>\n                        <td id=\"T_1b4b415c_5f32_11eb_966d_0242ac1c0002row0_col0\" class=\"data row0 col0\" >CROPPED JACKET TRF</td>\n                        <td id=\"T_1b4b415c_5f32_11eb_966d_0242ac1c0002row0_col1\" class=\"data row0 col1\" >Jacket made of a technical fabric with texture. High collar and long sleeves. Front pockets. Ribbed trims. Zip-up front.</td>\n            </tr>\n            <tr>\n                        <th id=\"T_1b4b415c_5f32_11eb_966d_0242ac1c0002level0_row1\" class=\"row_heading level0 row1\" >1</th>\n                        <td id=\"T_1b4b415c_5f32_11eb_966d_0242ac1c0002row1_col0\" class=\"data row1 col0\" >OVERSIZED SHIRT WITH POCKET TRF</td>\n                        <td id=\"T_1b4b415c_5f32_11eb_966d_0242ac1c0002row1_col1\" class=\"data row1 col1\" >Oversized long sleeve shirt with a round collar. Featuring an asymmetric hem and a button-up front.<br/><br/>HEIGHT OF MODEL: 177 cm. / 69.6″</td>\n            </tr>\n            <tr>\n                        <th id=\"T_1b4b415c_5f32_11eb_966d_0242ac1c0002level0_row2\" class=\"row_heading level0 row2\" >2</th>\n                        <td id=\"T_1b4b415c_5f32_11eb_966d_0242ac1c0002row2_col0\" class=\"data row2 col0\" >TECHNICAL TROUSERS TRF</td>\n                        <td id=\"T_1b4b415c_5f32_11eb_966d_0242ac1c0002row2_col1\" class=\"data row2 col1\" >High-waist trousers with a matching elastic waistband. Side pockets. Front darts.</td>\n            </tr>\n            <tr>\n                        <th id=\"T_1b4b415c_5f32_11eb_966d_0242ac1c0002level0_row3\" class=\"row_heading level0 row3\" >3</th>\n                        <td id=\"T_1b4b415c_5f32_11eb_966d_0242ac1c0002row3_col0\" class=\"data row3 col0\" >SHIRT DRESS</td>\n                        <td id=\"T_1b4b415c_5f32_11eb_966d_0242ac1c0002row3_col1\" class=\"data row3 col1\" >Collared dress featuring sleeves falling below the elbow with cuffs and pleats. Front patch pockets with flaps. Gathering at the waist. Button-up front.</td>\n            </tr>\n            <tr>\n                        <th id=\"T_1b4b415c_5f32_11eb_966d_0242ac1c0002level0_row4\" class=\"row_heading level0 row4\" >4</th>\n                        <td id=\"T_1b4b415c_5f32_11eb_966d_0242ac1c0002row4_col0\" class=\"data row4 col0\" >PUFF SLEEVE DRESS WITH PLEATS TRF</td>\n                        <td id=\"T_1b4b415c_5f32_11eb_966d_0242ac1c0002row4_col1\" class=\"data row4 col1\" >Loose-fitting midi dress with a round neckline and short puff sleeves with ruffled, elastic cuffs. Featuring side pockets, decorative pleats and a buttoned opening at the back.<br/><br/>HEIGHT OF MODEL: 177 cm. / 69.6″</td>\n            </tr>\n            <tr>\n                        <th id=\"T_1b4b415c_5f32_11eb_966d_0242ac1c0002level0_row5\" class=\"row_heading level0 row5\" >5</th>\n                        <td id=\"T_1b4b415c_5f32_11eb_966d_0242ac1c0002row5_col0\" class=\"data row5 col0\" >FLORAL PRINT DRESS TRF</td>\n                        <td id=\"T_1b4b415c_5f32_11eb_966d_0242ac1c0002row5_col1\" class=\"data row5 col1\" >Midi dress with a round neckline and short sleeves with ruffled elastic cuffs. Pleat details and buttoned opening at the back.<br/><br/>HEIGHT OF MODEL: 177 cm. / 69.6″</td>\n            </tr>\n            <tr>\n                        <th id=\"T_1b4b415c_5f32_11eb_966d_0242ac1c0002level0_row6\" class=\"row_heading level0 row6\" >6</th>\n                        <td id=\"T_1b4b415c_5f32_11eb_966d_0242ac1c0002row6_col0\" class=\"data row6 col0\" >PRINTED DRESS TRF</td>\n                        <td id=\"T_1b4b415c_5f32_11eb_966d_0242ac1c0002row6_col1\" class=\"data row6 col1\" >Midi dress with a shirt collar and sleeves falling below the elbow. Featuring an asymmetric hem with ruffle trims and a henley button placket.<br/><br/>HEIGHT OF MODEL: 177 cm. / 69.6″</td>\n            </tr>\n            <tr>\n                        <th id=\"T_1b4b415c_5f32_11eb_966d_0242ac1c0002level0_row7\" class=\"row_heading level0 row7\" >7</th>\n                        <td id=\"T_1b4b415c_5f32_11eb_966d_0242ac1c0002row7_col0\" class=\"data row7 col0\" >PRINTED MIDI DRESS TRF</td>\n                        <td id=\"T_1b4b415c_5f32_11eb_966d_0242ac1c0002row7_col1\" class=\"data row7 col1\" >Dress with a round neck and long sleeves. Featuring front pleats, and elastic detail and buttoned opening at the back.<br/><br/>HEIGHT OF MODEL: 177 cm. / 69.6″</td>\n            </tr>\n            <tr>\n                        <th id=\"T_1b4b415c_5f32_11eb_966d_0242ac1c0002level0_row8\" class=\"row_heading level0 row8\" >8</th>\n                        <td id=\"T_1b4b415c_5f32_11eb_966d_0242ac1c0002row8_col0\" class=\"data row8 col0\" >LOOSE-FITTING TEXTURED DRESS TRF</td>\n                        <td id=\"T_1b4b415c_5f32_11eb_966d_0242ac1c0002row8_col1\" class=\"data row8 col1\" >Short dress featuring a round neckline, long wide sleeves with elastic trim, lining, pleat detailing and buttoned opening at the back.<br/><br/>HEIGHT OF MODEL: 177 cm. / 69.6″</td>\n            </tr>\n            <tr>\n                        <th id=\"T_1b4b415c_5f32_11eb_966d_0242ac1c0002level0_row9\" class=\"row_heading level0 row9\" >9</th>\n                        <td id=\"T_1b4b415c_5f32_11eb_966d_0242ac1c0002row9_col0\" class=\"data row9 col0\" >RUFFLED PRINTED DRESS TRF</td>\n                        <td id=\"T_1b4b415c_5f32_11eb_966d_0242ac1c0002row9_col1\" class=\"data row9 col1\" >Short dress featuring a round neckline and long sleeves with elasticated cuffs. Ruffle trims. Fastening with buttoned opening at the back and invisible side zip.<br/><br/></td>\n            </tr>\n    </tbody></table>",
                "text/plain": "<pandas.io.formats.style.Styler at 0x7f7cb3ce7c50>"
              },
              {
                "output_type": "display_data",
                "metadata": {
                  "tags": []
                },
                "text/html": "<div>\n<style scoped>\n    .dataframe tbody tr th:only-of-type {\n        vertical-align: middle;\n    }\n\n    .dataframe tbody tr th {\n        vertical-align: top;\n    }\n\n    .dataframe thead th {\n        text-align: right;\n    }\n</style>\n<table border=\"1\" class=\"dataframe\">\n  <thead>\n    <tr style=\"text-align: right;\">\n      <th></th>\n      <th>name</th>\n      <th>description</th>\n    </tr>\n  </thead>\n  <tbody>\n    <tr>\n      <th>count</th>\n      <td>33613</td>\n      <td>33613</td>\n    </tr>\n    <tr>\n      <th>unique</th>\n      <td>23428</td>\n      <td>31593</td>\n    </tr>\n    <tr>\n      <th>top</th>\n      <td>PRINTED DRESS</td>\n      <td>Short sleeve T-shirt with a round neckline and...</td>\n    </tr>\n    <tr>\n      <th>freq</th>\n      <td>61</td>\n      <td>48</td>\n    </tr>\n  </tbody>\n</table>\n</div>",
                "text/plain": "                 name                                        description\ncount           33613                                              33613\nunique          23428                                              31593\ntop     PRINTED DRESS  Short sleeve T-shirt with a round neckline and...\nfreq               61                                                 48"
              },
              {
                "output_type": "stream",
                "metadata": {
                  "tags": []
                },
                "text": "<class 'pandas.core.frame.DataFrame'>\nRangeIndex: 33613 entries, 0 to 33612\nData columns (total 2 columns):\n #   Column       Non-Null Count  Dtype \n---  ------       --------------  ----- \n 0   name         33613 non-null  object\n 1   description  33613 non-null  object\ndtypes: object(2)\nmemory usage: 525.3+ KB\n",
                "stream": "stdout"
              }
            ],
            "_view_module": "@jupyter-widgets/output",
            "_model_module_version": "1.0.0",
            "_view_count": null,
            "_view_module_version": "1.0.0",
            "layout": "IPY_MODEL_ef3f2df673954393bd0fed769c18f683",
            "_model_module": "@jupyter-widgets/output"
          }
        },
        "28b463d986ef4346a7ec0c5e113041a1": {
          "model_module": "@jupyter-widgets/output",
          "model_name": "OutputModel",
          "state": {
            "_view_name": "OutputView",
            "msg_id": "",
            "_dom_classes": [],
            "_model_name": "OutputModel",
            "outputs": [
              {
                "output_type": "display_data",
                "metadata": {
                  "tags": []
                },
                "text/html": "<style  type=\"text/css\" >\n</style><table id=\"T_1b5552a0_5f32_11eb_966d_0242ac1c0002\" ><caption>Test dataframe</caption><thead>    <tr>        <th class=\"blank level0\" ></th>        <th class=\"col_heading level0 col0\" >description</th>    </tr></thead><tbody>\n                <tr>\n                        <th id=\"T_1b5552a0_5f32_11eb_966d_0242ac1c0002level0_row0\" class=\"row_heading level0 row0\" >0</th>\n                        <td id=\"T_1b5552a0_5f32_11eb_966d_0242ac1c0002row0_col0\" class=\"data row0 col0\" >Knit midi dress with a V-neckline, straps and matching lace detail.<br/><br/>HEIGHT OF MODEL: 177 CM. / 69.6″</td>\n            </tr>\n            <tr>\n                        <th id=\"T_1b5552a0_5f32_11eb_966d_0242ac1c0002level0_row1\" class=\"row_heading level0 row1\" >1</th>\n                        <td id=\"T_1b5552a0_5f32_11eb_966d_0242ac1c0002row1_col0\" class=\"data row1 col0\" >Loose-fitting dress with a round neckline, long sleeves, pleat details and a buttoned opening at the back.<br/><br/>HEIGHT OF MODEL: 177 CM / 69.6″</td>\n            </tr>\n            <tr>\n                        <th id=\"T_1b5552a0_5f32_11eb_966d_0242ac1c0002level0_row2\" class=\"row_heading level0 row2\" >2</th>\n                        <td id=\"T_1b5552a0_5f32_11eb_966d_0242ac1c0002row2_col0\" class=\"data row2 col0\" >Nautical cap with peak.<br/><br/>This item must be returned with the original cardboard packaging intact.</td>\n            </tr>\n            <tr>\n                        <th id=\"T_1b5552a0_5f32_11eb_966d_0242ac1c0002level0_row3\" class=\"row_heading level0 row3\" >3</th>\n                        <td id=\"T_1b5552a0_5f32_11eb_966d_0242ac1c0002row3_col0\" class=\"data row3 col0\" >Nautical cap with peak. Adjustable inner strap detail.</td>\n            </tr>\n            <tr>\n                        <th id=\"T_1b5552a0_5f32_11eb_966d_0242ac1c0002level0_row4\" class=\"row_heading level0 row4\" >4</th>\n                        <td id=\"T_1b5552a0_5f32_11eb_966d_0242ac1c0002row4_col0\" class=\"data row4 col0\" >Nautical cap with side button detail.<br/><br/>This item must be returned with the original cardboard packaging intact.</td>\n            </tr>\n            <tr>\n                        <th id=\"T_1b5552a0_5f32_11eb_966d_0242ac1c0002level0_row5\" class=\"row_heading level0 row5\" >5</th>\n                        <td id=\"T_1b5552a0_5f32_11eb_966d_0242ac1c0002row5_col0\" class=\"data row5 col0\" >Faded short sleeve T-shirt with a round neckline and a front print.<br/><br/>Due to the dyeing process, the print on each T-shirt is unique and may differ from what is shown in the photo.<br/><br/>HEIGHT OF MODEL: 177 cm. / 69.6″</td>\n            </tr>\n            <tr>\n                        <th id=\"T_1b5552a0_5f32_11eb_966d_0242ac1c0002level0_row6\" class=\"row_heading level0 row6\" >6</th>\n                        <td id=\"T_1b5552a0_5f32_11eb_966d_0242ac1c0002row6_col0\" class=\"data row6 col0\" >Coat with a round collar and long sleeves. Featuring front welt pockets, faux suede interior and button fastening on the front. <br/><br/>HEIGHT OF MODEL: 177 cm. / 69.6″</td>\n            </tr>\n            <tr>\n                        <th id=\"T_1b5552a0_5f32_11eb_966d_0242ac1c0002level0_row7\" class=\"row_heading level0 row7\" >7</th>\n                        <td id=\"T_1b5552a0_5f32_11eb_966d_0242ac1c0002row7_col0\" class=\"data row7 col0\" >Ripped T-shirt. Round neck and short sleeves<br/><br/>HEIGHT OF MODEL 176</td>\n            </tr>\n            <tr>\n                        <th id=\"T_1b5552a0_5f32_11eb_966d_0242ac1c0002level0_row8\" class=\"row_heading level0 row8\" >8</th>\n                        <td id=\"T_1b5552a0_5f32_11eb_966d_0242ac1c0002row8_col0\" class=\"data row8 col0\" >Fitted top made from a polyamide blend. Features wide straps and chest reinforcement.<br/><br/>MODEL HEIGHT: 178 CM</td>\n            </tr>\n            <tr>\n                        <th id=\"T_1b5552a0_5f32_11eb_966d_0242ac1c0002level0_row9\" class=\"row_heading level0 row9\" >9</th>\n                        <td id=\"T_1b5552a0_5f32_11eb_966d_0242ac1c0002row9_col0\" class=\"data row9 col0\" >Fitted top made from a polyamide blend. Features wide straps and chest reinforcement.<br/><br/>MODEL HEIGHT: 177 CM / 69.6″</td>\n            </tr>\n    </tbody></table>",
                "text/plain": "<pandas.io.formats.style.Styler at 0x7f7cb4990828>"
              },
              {
                "output_type": "display_data",
                "metadata": {
                  "tags": []
                },
                "text/html": "<div>\n<style scoped>\n    .dataframe tbody tr th:only-of-type {\n        vertical-align: middle;\n    }\n\n    .dataframe tbody tr th {\n        vertical-align: top;\n    }\n\n    .dataframe thead th {\n        text-align: right;\n    }\n</style>\n<table border=\"1\" class=\"dataframe\">\n  <thead>\n    <tr style=\"text-align: right;\">\n      <th></th>\n      <th>description</th>\n    </tr>\n  </thead>\n  <tbody>\n    <tr>\n      <th>count</th>\n      <td>1441</td>\n    </tr>\n    <tr>\n      <th>unique</th>\n      <td>1428</td>\n    </tr>\n    <tr>\n      <th>top</th>\n      <td>Duvet cover in 150 thread count cotton with a ...</td>\n    </tr>\n    <tr>\n      <th>freq</th>\n      <td>3</td>\n    </tr>\n  </tbody>\n</table>\n</div>",
                "text/plain": "                                              description\ncount                                                1441\nunique                                               1428\ntop     Duvet cover in 150 thread count cotton with a ...\nfreq                                                    3"
              },
              {
                "output_type": "stream",
                "metadata": {
                  "tags": []
                },
                "text": "<class 'pandas.core.frame.DataFrame'>\nRangeIndex: 1441 entries, 0 to 1440\nData columns (total 1 columns):\n #   Column       Non-Null Count  Dtype \n---  ------       --------------  ----- \n 0   description  1441 non-null   object\ndtypes: object(1)\nmemory usage: 11.4+ KB\n",
                "stream": "stdout"
              }
            ],
            "_view_module": "@jupyter-widgets/output",
            "_model_module_version": "1.0.0",
            "_view_count": null,
            "_view_module_version": "1.0.0",
            "layout": "IPY_MODEL_8763a44f21df402ab237c73d5d1d8f5b",
            "_model_module": "@jupyter-widgets/output"
          }
        },
        "ef3f2df673954393bd0fed769c18f683": {
          "model_module": "@jupyter-widgets/base",
          "model_name": "LayoutModel",
          "state": {
            "_view_name": "LayoutView",
            "grid_template_rows": null,
            "right": null,
            "justify_content": null,
            "_view_module": "@jupyter-widgets/base",
            "overflow": null,
            "_model_module_version": "1.2.0",
            "_view_count": null,
            "flex_flow": null,
            "width": null,
            "min_width": null,
            "border": null,
            "align_items": null,
            "bottom": null,
            "_model_module": "@jupyter-widgets/base",
            "top": null,
            "grid_column": null,
            "overflow_y": null,
            "overflow_x": null,
            "grid_auto_flow": null,
            "grid_area": null,
            "grid_template_columns": null,
            "flex": null,
            "_model_name": "LayoutModel",
            "justify_items": null,
            "grid_row": null,
            "max_height": null,
            "align_content": null,
            "visibility": null,
            "align_self": null,
            "height": null,
            "min_height": null,
            "padding": null,
            "grid_auto_rows": null,
            "grid_gap": null,
            "max_width": null,
            "order": null,
            "_view_module_version": "1.2.0",
            "grid_template_areas": null,
            "object_position": null,
            "object_fit": null,
            "grid_auto_columns": null,
            "margin": null,
            "display": null,
            "left": null
          }
        },
        "8763a44f21df402ab237c73d5d1d8f5b": {
          "model_module": "@jupyter-widgets/base",
          "model_name": "LayoutModel",
          "state": {
            "_view_name": "LayoutView",
            "grid_template_rows": null,
            "right": null,
            "justify_content": null,
            "_view_module": "@jupyter-widgets/base",
            "overflow": null,
            "_model_module_version": "1.2.0",
            "_view_count": null,
            "flex_flow": null,
            "width": null,
            "min_width": null,
            "border": null,
            "align_items": null,
            "bottom": null,
            "_model_module": "@jupyter-widgets/base",
            "top": null,
            "grid_column": null,
            "overflow_y": null,
            "overflow_x": null,
            "grid_auto_flow": null,
            "grid_area": null,
            "grid_template_columns": null,
            "flex": null,
            "_model_name": "LayoutModel",
            "justify_items": null,
            "grid_row": null,
            "max_height": null,
            "align_content": null,
            "visibility": null,
            "align_self": null,
            "height": null,
            "min_height": null,
            "padding": null,
            "grid_auto_rows": null,
            "grid_gap": null,
            "max_width": null,
            "order": null,
            "_view_module_version": "1.2.0",
            "grid_template_areas": null,
            "object_position": null,
            "object_fit": null,
            "grid_auto_columns": null,
            "margin": null,
            "display": null,
            "left": null
          }
        },
        "68814dae6e4b4496a70a1a2ba677c4ef": {
          "model_module": "@jupyter-widgets/controls",
          "model_name": "HBoxModel",
          "state": {
            "_view_name": "HBoxView",
            "_dom_classes": [],
            "_model_name": "HBoxModel",
            "_view_module": "@jupyter-widgets/controls",
            "_model_module_version": "1.5.0",
            "_view_count": null,
            "_view_module_version": "1.5.0",
            "box_style": "",
            "layout": "IPY_MODEL_699c930e13c7416bbfa2b99f5f78476c",
            "_model_module": "@jupyter-widgets/controls",
            "children": [
              "IPY_MODEL_6170f9ba048541f9a8ae4e9e6a1ac041",
              "IPY_MODEL_1363e594a49c4418b6e886e322d7c3f7"
            ]
          }
        },
        "699c930e13c7416bbfa2b99f5f78476c": {
          "model_module": "@jupyter-widgets/base",
          "model_name": "LayoutModel",
          "state": {
            "_view_name": "LayoutView",
            "grid_template_rows": null,
            "right": null,
            "justify_content": "space-around",
            "_view_module": "@jupyter-widgets/base",
            "overflow": null,
            "_model_module_version": "1.2.0",
            "_view_count": null,
            "flex_flow": "row",
            "width": "auto",
            "min_width": null,
            "border": null,
            "align_items": null,
            "bottom": null,
            "_model_module": "@jupyter-widgets/base",
            "top": null,
            "grid_column": null,
            "overflow_y": null,
            "overflow_x": null,
            "grid_auto_flow": null,
            "grid_area": null,
            "grid_template_columns": null,
            "flex": null,
            "_model_name": "LayoutModel",
            "justify_items": null,
            "grid_row": null,
            "max_height": null,
            "align_content": null,
            "visibility": null,
            "align_self": null,
            "height": null,
            "min_height": null,
            "padding": null,
            "grid_auto_rows": null,
            "grid_gap": null,
            "max_width": null,
            "order": null,
            "_view_module_version": "1.2.0",
            "grid_template_areas": null,
            "object_position": null,
            "object_fit": null,
            "grid_auto_columns": null,
            "margin": null,
            "display": "flex",
            "left": null
          }
        },
        "6170f9ba048541f9a8ae4e9e6a1ac041": {
          "model_module": "@jupyter-widgets/output",
          "model_name": "OutputModel",
          "state": {
            "_view_name": "OutputView",
            "msg_id": "",
            "_dom_classes": [],
            "_model_name": "OutputModel",
            "outputs": [
              {
                "output_type": "display_data",
                "metadata": {
                  "tags": [],
                  "needs_background": "light"
                },
                "image/png": "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\n",
                "text/plain": "<Figure size 432x288 with 1 Axes>"
              },
              {
                "output_type": "display_data",
                "metadata": {
                  "tags": []
                },
                "text/plain": "None"
              }
            ],
            "_view_module": "@jupyter-widgets/output",
            "_model_module_version": "1.0.0",
            "_view_count": null,
            "_view_module_version": "1.0.0",
            "layout": "IPY_MODEL_f21bc812f30e43adb079228182e64e87",
            "_model_module": "@jupyter-widgets/output"
          }
        },
        "1363e594a49c4418b6e886e322d7c3f7": {
          "model_module": "@jupyter-widgets/output",
          "model_name": "OutputModel",
          "state": {
            "_view_name": "OutputView",
            "msg_id": "",
            "_dom_classes": [],
            "_model_name": "OutputModel",
            "outputs": [
              {
                "output_type": "display_data",
                "metadata": {
                  "tags": [],
                  "needs_background": "light"
                },
                "image/png": "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\n",
                "text/plain": "<Figure size 432x288 with 1 Axes>"
              },
              {
                "output_type": "display_data",
                "metadata": {
                  "tags": []
                },
                "text/plain": "None"
              }
            ],
            "_view_module": "@jupyter-widgets/output",
            "_model_module_version": "1.0.0",
            "_view_count": null,
            "_view_module_version": "1.0.0",
            "layout": "IPY_MODEL_8f1d445dbb86437ebf99da150c429b91",
            "_model_module": "@jupyter-widgets/output"
          }
        },
        "f21bc812f30e43adb079228182e64e87": {
          "model_module": "@jupyter-widgets/base",
          "model_name": "LayoutModel",
          "state": {
            "_view_name": "LayoutView",
            "grid_template_rows": null,
            "right": null,
            "justify_content": null,
            "_view_module": "@jupyter-widgets/base",
            "overflow": null,
            "_model_module_version": "1.2.0",
            "_view_count": null,
            "flex_flow": null,
            "width": null,
            "min_width": null,
            "border": null,
            "align_items": null,
            "bottom": null,
            "_model_module": "@jupyter-widgets/base",
            "top": null,
            "grid_column": null,
            "overflow_y": null,
            "overflow_x": null,
            "grid_auto_flow": null,
            "grid_area": null,
            "grid_template_columns": null,
            "flex": null,
            "_model_name": "LayoutModel",
            "justify_items": null,
            "grid_row": null,
            "max_height": null,
            "align_content": null,
            "visibility": null,
            "align_self": null,
            "height": null,
            "min_height": null,
            "padding": null,
            "grid_auto_rows": null,
            "grid_gap": null,
            "max_width": null,
            "order": null,
            "_view_module_version": "1.2.0",
            "grid_template_areas": null,
            "object_position": null,
            "object_fit": null,
            "grid_auto_columns": null,
            "margin": null,
            "display": null,
            "left": null
          }
        },
        "8f1d445dbb86437ebf99da150c429b91": {
          "model_module": "@jupyter-widgets/base",
          "model_name": "LayoutModel",
          "state": {
            "_view_name": "LayoutView",
            "grid_template_rows": null,
            "right": null,
            "justify_content": null,
            "_view_module": "@jupyter-widgets/base",
            "overflow": null,
            "_model_module_version": "1.2.0",
            "_view_count": null,
            "flex_flow": null,
            "width": null,
            "min_width": null,
            "border": null,
            "align_items": null,
            "bottom": null,
            "_model_module": "@jupyter-widgets/base",
            "top": null,
            "grid_column": null,
            "overflow_y": null,
            "overflow_x": null,
            "grid_auto_flow": null,
            "grid_area": null,
            "grid_template_columns": null,
            "flex": null,
            "_model_name": "LayoutModel",
            "justify_items": null,
            "grid_row": null,
            "max_height": null,
            "align_content": null,
            "visibility": null,
            "align_self": null,
            "height": null,
            "min_height": null,
            "padding": null,
            "grid_auto_rows": null,
            "grid_gap": null,
            "max_width": null,
            "order": null,
            "_view_module_version": "1.2.0",
            "grid_template_areas": null,
            "object_position": null,
            "object_fit": null,
            "grid_auto_columns": null,
            "margin": null,
            "display": null,
            "left": null
          }
        }
      }
    },
    "accelerator": "GPU"
  },
  "cells": [
    {
      "cell_type": "markdown",
      "metadata": {
        "id": "view-in-github",
        "colab_type": "text"
      },
      "source": [
        "<a href=\"https://colab.research.google.com/github/vbayarri/SpainAI_2020_reto_NLP/blob/main/1.Jupyter/Analysis.ipynb\" target=\"_parent\"><img src=\"https://colab.research.google.com/assets/colab-badge.svg\" alt=\"Open In Colab\"/></a>"
      ]
    },
    {
      "cell_type": "markdown",
      "metadata": {
        "id": "mJCblGemxLWR"
      },
      "source": [
        "# Análisis de train and test data\r\n"
      ]
    },
    {
      "cell_type": "markdown",
      "metadata": {
        "id": "whaAk4o7xzF0"
      },
      "source": [
        "## Importación de librerias"
      ]
    },
    {
      "cell_type": "code",
      "metadata": {
        "id": "-JDqwjLKx-zp"
      },
      "source": [
        "import base64\r\n",
        "import requests\r\n",
        "import io\r\n",
        "import matplotlib.pyplot as plt\r\n",
        "import matplotlib.ticker as mtick\r\n",
        "import pandas as pd\r\n",
        "\r\n",
        "from ipywidgets import widgets, Layout\r\n",
        "from IPython.core.display import display, HTML\r\n",
        "\r\n",
        "%matplotlib inline\r\n",
        "\r\n",
        "# Cool display option\r\n",
        "def display_side_by_side(dfs:list, captions:list):\r\n",
        "    \"\"\"Display tables side by side to save vertical space\r\n",
        "    Input:\r\n",
        "        dfs: list of pandas.DataFrame\r\n",
        "        captions: list of table captions\r\n",
        "    \"\"\"\r\n",
        "    output = \"\"\r\n",
        "    combined = dict(zip(captions, dfs))\r\n",
        "    for caption, df in combined.items():\r\n",
        "        output += df.style.set_table_attributes(\"style='display:inline'\").set_caption(caption)._repr_html_()\r\n",
        "        output += \"\\xa0\\xa0\\xa0\"\r\n",
        "    display(HTML(output))"
      ],
      "execution_count": 38,
      "outputs": []
    },
    {
      "cell_type": "markdown",
      "metadata": {
        "id": "X4u5aad4xfmz"
      },
      "source": [
        "## Importación de ficheros de datos\r\n"
      ]
    },
    {
      "cell_type": "code",
      "metadata": {
        "id": "Ouh62Fz8yIHX"
      },
      "source": [
        "train = \"https://raw.githubusercontent.com/vbayarri/SpainAI_2020_reto_NLP/main/0.Dataset/train.csv\"\r\n",
        "req = requests.get(train)\r\n",
        "traindata = req.text\r\n",
        "trainpd = pd.read_csv(io.StringIO(traindata), sep=\",\", dtype=str)\r\n",
        "\r\n",
        "test = \"https://raw.githubusercontent.com/vbayarri/SpainAI_2020_reto_NLP/main/0.Dataset/test_descriptions.csv\"\r\n",
        "req = requests.get(test)\r\n",
        "testdata = req.text\r\n",
        "testpd = pd.read_csv(io.StringIO(testdata), sep=\",\", dtype=str)"
      ],
      "execution_count": 39,
      "outputs": []
    },
    {
      "cell_type": "markdown",
      "metadata": {
        "id": "4txRl1As8XWs"
      },
      "source": [
        "## Limpieza básica de datos\r\n"
      ]
    },
    {
      "cell_type": "code",
      "metadata": {
        "id": "DhNp_k128W_5"
      },
      "source": [
        "trainpd['name'] = trainpd['name'].apply(lambda x : x.strip())\r\n",
        "trainpd['description'] = trainpd['description'].apply(lambda x : x.strip())\r\n",
        "testpd['description'] = testpd['description'].apply(lambda x : x.strip())\r\n"
      ],
      "execution_count": 40,
      "outputs": []
    },
    {
      "cell_type": "markdown",
      "metadata": {
        "id": "WgzOGj646LIc"
      },
      "source": [
        "## Volumetrías de datos\r\n",
        "\r\n",
        "Summarize Data"
      ]
    },
    {
      "cell_type": "code",
      "metadata": {
        "id": "2m2A6w696RkI",
        "colab": {
          "base_uri": "https://localhost:8080/",
          "height": 950,
          "referenced_widgets": [
            "807b0c3963194e02932cbd2e0a5393c6",
            "fc4f54ae620941e5935f744b319fbf66",
            "02bc0c23c50f44c49674ec385672b32e",
            "28b463d986ef4346a7ec0c5e113041a1",
            "ef3f2df673954393bd0fed769c18f683",
            "8763a44f21df402ab237c73d5d1d8f5b"
          ]
        },
        "outputId": "adb63fc0-f072-480b-9655-b2dc7608727f"
      },
      "source": [
        "# create output widgets\r\n",
        "widget1 = widgets.Output()\r\n",
        "widget2 = widgets.Output()\r\n",
        "\r\n",
        "# render in output widgets\r\n",
        "with widget1:\r\n",
        "    display(trainpd.head(10).style.set_caption('Train dataframe'))\r\n",
        "    display(trainpd.describe())\r\n",
        "    trainpd.info()\r\n",
        "with widget2:\r\n",
        "    display(testpd.head(10).style.set_caption('Test dataframe'))\r\n",
        "    display(testpd.describe())\r\n",
        "    testpd.info()\r\n",
        "\r\n",
        "# add some CSS styles to distribute free space\r\n",
        "box_layout = Layout(display='flex',\r\n",
        "                    flex_flow='row',\r\n",
        "                    justify_content='space-around',\r\n",
        "                    width='auto'\r\n",
        "                   )\r\n",
        "    \r\n",
        "# create Horisontal Box container\r\n",
        "hbox = widgets.HBox([widget1, widget2], layout=box_layout)\r\n",
        "\r\n",
        "# render hbox\r\n",
        "hbox"
      ],
      "execution_count": 41,
      "outputs": [
        {
          "output_type": "display_data",
          "data": {
            "application/vnd.jupyter.widget-view+json": {
              "model_id": "807b0c3963194e02932cbd2e0a5393c6",
              "version_minor": 0,
              "version_major": 2
            },
            "text/plain": [
              "HBox(children=(Output(), Output()), layout=Layout(display='flex', flex_flow='row', justify_content='space-arou…"
            ]
          },
          "metadata": {
            "tags": []
          }
        }
      ]
    },
    {
      "cell_type": "code",
      "metadata": {
        "id": "WpWARcrKmxJz",
        "colab": {
          "base_uri": "https://localhost:8080/",
          "height": 359
        },
        "outputId": "01df6889-e933-4079-fb9d-4dde116fa88b"
      },
      "source": [
        "trainpd['chars_name'] = trainpd['name'].apply(lambda x : len(x))\r\n",
        "trainpd['words_name'] = trainpd['name'].apply(lambda x : len(x.split()))\r\n",
        "\r\n",
        "trainpd['chars_description'] = trainpd['description'].apply(lambda x : len(x))\r\n",
        "trainpd['words_description'] = trainpd['description'].apply(lambda x : len(x.split()))\r\n",
        "trainpd['lines_description'] = trainpd['description'].apply(lambda x : len(x.split('\\n')))\r\n",
        "\r\n",
        "trainpd.head(10)"
      ],
      "execution_count": 34,
      "outputs": [
        {
          "output_type": "execute_result",
          "data": {
            "text/html": [
              "<div>\n",
              "<style scoped>\n",
              "    .dataframe tbody tr th:only-of-type {\n",
              "        vertical-align: middle;\n",
              "    }\n",
              "\n",
              "    .dataframe tbody tr th {\n",
              "        vertical-align: top;\n",
              "    }\n",
              "\n",
              "    .dataframe thead th {\n",
              "        text-align: right;\n",
              "    }\n",
              "</style>\n",
              "<table border=\"1\" class=\"dataframe\">\n",
              "  <thead>\n",
              "    <tr style=\"text-align: right;\">\n",
              "      <th></th>\n",
              "      <th>name</th>\n",
              "      <th>description</th>\n",
              "      <th>chars_name</th>\n",
              "      <th>words_name</th>\n",
              "      <th>chars_description</th>\n",
              "      <th>words_description</th>\n",
              "      <th>lines_description</th>\n",
              "    </tr>\n",
              "  </thead>\n",
              "  <tbody>\n",
              "    <tr>\n",
              "      <th>0</th>\n",
              "      <td>CROPPED JACKET TRF</td>\n",
              "      <td>Jacket made of a technical fabric with texture...</td>\n",
              "      <td>18</td>\n",
              "      <td>3</td>\n",
              "      <td>120</td>\n",
              "      <td>19</td>\n",
              "      <td>1</td>\n",
              "    </tr>\n",
              "    <tr>\n",
              "      <th>1</th>\n",
              "      <td>OVERSIZED SHIRT WITH POCKET TRF</td>\n",
              "      <td>Oversized long sleeve shirt with a round colla...</td>\n",
              "      <td>31</td>\n",
              "      <td>5</td>\n",
              "      <td>141</td>\n",
              "      <td>22</td>\n",
              "      <td>1</td>\n",
              "    </tr>\n",
              "    <tr>\n",
              "      <th>2</th>\n",
              "      <td>TECHNICAL TROUSERS TRF</td>\n",
              "      <td>High-waist trousers with a matching elastic wa...</td>\n",
              "      <td>22</td>\n",
              "      <td>3</td>\n",
              "      <td>81</td>\n",
              "      <td>11</td>\n",
              "      <td>1</td>\n",
              "    </tr>\n",
              "    <tr>\n",
              "      <th>3</th>\n",
              "      <td>SHIRT DRESS</td>\n",
              "      <td>Collared dress featuring sleeves falling below...</td>\n",
              "      <td>11</td>\n",
              "      <td>2</td>\n",
              "      <td>152</td>\n",
              "      <td>23</td>\n",
              "      <td>1</td>\n",
              "    </tr>\n",
              "    <tr>\n",
              "      <th>4</th>\n",
              "      <td>PUFF SLEEVE DRESS WITH PLEATS TRF</td>\n",
              "      <td>Loose-fitting midi dress with a round neckline...</td>\n",
              "      <td>33</td>\n",
              "      <td>6</td>\n",
              "      <td>218</td>\n",
              "      <td>33</td>\n",
              "      <td>1</td>\n",
              "    </tr>\n",
              "    <tr>\n",
              "      <th>5</th>\n",
              "      <td>FLORAL PRINT DRESS TRF</td>\n",
              "      <td>Midi dress with a round neckline and short sle...</td>\n",
              "      <td>22</td>\n",
              "      <td>4</td>\n",
              "      <td>168</td>\n",
              "      <td>27</td>\n",
              "      <td>1</td>\n",
              "    </tr>\n",
              "    <tr>\n",
              "      <th>6</th>\n",
              "      <td>PRINTED DRESS TRF</td>\n",
              "      <td>Midi dress with a shirt collar and sleeves fal...</td>\n",
              "      <td>17</td>\n",
              "      <td>3</td>\n",
              "      <td>184</td>\n",
              "      <td>30</td>\n",
              "      <td>1</td>\n",
              "    </tr>\n",
              "    <tr>\n",
              "      <th>7</th>\n",
              "      <td>PRINTED MIDI DRESS TRF</td>\n",
              "      <td>Dress with a round neck and long sleeves. Feat...</td>\n",
              "      <td>22</td>\n",
              "      <td>4</td>\n",
              "      <td>160</td>\n",
              "      <td>26</td>\n",
              "      <td>1</td>\n",
              "    </tr>\n",
              "    <tr>\n",
              "      <th>8</th>\n",
              "      <td>LOOSE-FITTING TEXTURED DRESS TRF</td>\n",
              "      <td>Short dress featuring a round neckline, long w...</td>\n",
              "      <td>32</td>\n",
              "      <td>4</td>\n",
              "      <td>176</td>\n",
              "      <td>27</td>\n",
              "      <td>1</td>\n",
              "    </tr>\n",
              "    <tr>\n",
              "      <th>9</th>\n",
              "      <td>RUFFLED PRINTED DRESS TRF</td>\n",
              "      <td>Short dress featuring a round neckline and lon...</td>\n",
              "      <td>25</td>\n",
              "      <td>4</td>\n",
              "      <td>171</td>\n",
              "      <td>25</td>\n",
              "      <td>1</td>\n",
              "    </tr>\n",
              "  </tbody>\n",
              "</table>\n",
              "</div>"
            ],
            "text/plain": [
              "                                name  ... lines_description\n",
              "0                 CROPPED JACKET TRF  ...                 1\n",
              "1    OVERSIZED SHIRT WITH POCKET TRF  ...                 1\n",
              "2             TECHNICAL TROUSERS TRF  ...                 1\n",
              "3                        SHIRT DRESS  ...                 1\n",
              "4  PUFF SLEEVE DRESS WITH PLEATS TRF  ...                 1\n",
              "5             FLORAL PRINT DRESS TRF  ...                 1\n",
              "6                  PRINTED DRESS TRF  ...                 1\n",
              "7             PRINTED MIDI DRESS TRF  ...                 1\n",
              "8   LOOSE-FITTING TEXTURED DRESS TRF  ...                 1\n",
              "9          RUFFLED PRINTED DRESS TRF  ...                 1\n",
              "\n",
              "[10 rows x 7 columns]"
            ]
          },
          "metadata": {
            "tags": []
          },
          "execution_count": 34
        }
      ]
    },
    {
      "cell_type": "code",
      "metadata": {
        "id": "IhhXrrfXqmHu",
        "colab": {
          "base_uri": "https://localhost:8080/",
          "height": 359
        },
        "outputId": "1cd12038-6c4d-4d3c-e43c-96a5048d78d3"
      },
      "source": [
        "testpd['chars_description'] = testpd['description'].apply(lambda x : len(x))\r\n",
        "testpd['words_description'] = testpd['description'].apply(lambda x : len(x.split()))\r\n",
        "testpd['lines_description'] = testpd['description'].apply(lambda x : len(x.split('<br>')))\r\n",
        "\r\n",
        "testpd.head(10)"
      ],
      "execution_count": 35,
      "outputs": [
        {
          "output_type": "execute_result",
          "data": {
            "text/html": [
              "<div>\n",
              "<style scoped>\n",
              "    .dataframe tbody tr th:only-of-type {\n",
              "        vertical-align: middle;\n",
              "    }\n",
              "\n",
              "    .dataframe tbody tr th {\n",
              "        vertical-align: top;\n",
              "    }\n",
              "\n",
              "    .dataframe thead th {\n",
              "        text-align: right;\n",
              "    }\n",
              "</style>\n",
              "<table border=\"1\" class=\"dataframe\">\n",
              "  <thead>\n",
              "    <tr style=\"text-align: right;\">\n",
              "      <th></th>\n",
              "      <th>description</th>\n",
              "      <th>chars_description</th>\n",
              "      <th>words_description</th>\n",
              "      <th>lines_description</th>\n",
              "    </tr>\n",
              "  </thead>\n",
              "  <tbody>\n",
              "    <tr>\n",
              "      <th>0</th>\n",
              "      <td>Knit midi dress with a V-neckline, straps and ...</td>\n",
              "      <td>109</td>\n",
              "      <td>17</td>\n",
              "      <td>1</td>\n",
              "    </tr>\n",
              "    <tr>\n",
              "      <th>1</th>\n",
              "      <td>Loose-fitting dress with a round neckline, lon...</td>\n",
              "      <td>147</td>\n",
              "      <td>23</td>\n",
              "      <td>1</td>\n",
              "    </tr>\n",
              "    <tr>\n",
              "      <th>2</th>\n",
              "      <td>Nautical cap with peak.&lt;br/&gt;&lt;br/&gt;This item mus...</td>\n",
              "      <td>105</td>\n",
              "      <td>14</td>\n",
              "      <td>1</td>\n",
              "    </tr>\n",
              "    <tr>\n",
              "      <th>3</th>\n",
              "      <td>Nautical cap with peak. Adjustable inner strap...</td>\n",
              "      <td>54</td>\n",
              "      <td>8</td>\n",
              "      <td>1</td>\n",
              "    </tr>\n",
              "    <tr>\n",
              "      <th>4</th>\n",
              "      <td>Nautical cap with side button detail.&lt;br/&gt;&lt;br/...</td>\n",
              "      <td>119</td>\n",
              "      <td>16</td>\n",
              "      <td>1</td>\n",
              "    </tr>\n",
              "    <tr>\n",
              "      <th>5</th>\n",
              "      <td>Faded short sleeve T-shirt with a round neckli...</td>\n",
              "      <td>229</td>\n",
              "      <td>39</td>\n",
              "      <td>1</td>\n",
              "    </tr>\n",
              "    <tr>\n",
              "      <th>6</th>\n",
              "      <td>Coat with a round collar and long sleeves. Fea...</td>\n",
              "      <td>170</td>\n",
              "      <td>28</td>\n",
              "      <td>1</td>\n",
              "    </tr>\n",
              "    <tr>\n",
              "      <th>7</th>\n",
              "      <td>Ripped T-shirt. Round neck and short sleeves&lt;b...</td>\n",
              "      <td>73</td>\n",
              "      <td>10</td>\n",
              "      <td>1</td>\n",
              "    </tr>\n",
              "    <tr>\n",
              "      <th>8</th>\n",
              "      <td>Fitted top made from a polyamide blend. Featur...</td>\n",
              "      <td>115</td>\n",
              "      <td>16</td>\n",
              "      <td>1</td>\n",
              "    </tr>\n",
              "    <tr>\n",
              "      <th>9</th>\n",
              "      <td>Fitted top made from a polyamide blend. Featur...</td>\n",
              "      <td>123</td>\n",
              "      <td>18</td>\n",
              "      <td>1</td>\n",
              "    </tr>\n",
              "  </tbody>\n",
              "</table>\n",
              "</div>"
            ],
            "text/plain": [
              "                                         description  ...  lines_description\n",
              "0  Knit midi dress with a V-neckline, straps and ...  ...                  1\n",
              "1  Loose-fitting dress with a round neckline, lon...  ...                  1\n",
              "2  Nautical cap with peak.<br/><br/>This item mus...  ...                  1\n",
              "3  Nautical cap with peak. Adjustable inner strap...  ...                  1\n",
              "4  Nautical cap with side button detail.<br/><br/...  ...                  1\n",
              "5  Faded short sleeve T-shirt with a round neckli...  ...                  1\n",
              "6  Coat with a round collar and long sleeves. Fea...  ...                  1\n",
              "7  Ripped T-shirt. Round neck and short sleeves<b...  ...                  1\n",
              "8  Fitted top made from a polyamide blend. Featur...  ...                  1\n",
              "9  Fitted top made from a polyamide blend. Featur...  ...                  1\n",
              "\n",
              "[10 rows x 4 columns]"
            ]
          },
          "metadata": {
            "tags": []
          },
          "execution_count": 35
        }
      ]
    },
    {
      "cell_type": "code",
      "metadata": {
        "colab": {
          "base_uri": "https://localhost:8080/",
          "height": 283,
          "referenced_widgets": [
            "68814dae6e4b4496a70a1a2ba677c4ef",
            "699c930e13c7416bbfa2b99f5f78476c",
            "6170f9ba048541f9a8ae4e9e6a1ac041",
            "1363e594a49c4418b6e886e322d7c3f7",
            "f21bc812f30e43adb079228182e64e87",
            "8f1d445dbb86437ebf99da150c429b91"
          ]
        },
        "id": "m4n0MWdNGDLE",
        "outputId": "d98ed0ce-d964-4ac9-cb0d-5a0d9d9d4ba7"
      },
      "source": [
        "## Estatistics about columns\r\n",
        "\r\n",
        "# create output widgets\r\n",
        "widget1 = widgets.Output()\r\n",
        "widget2 = widgets.Output()\r\n",
        "\r\n",
        "# render in output widgets\r\n",
        "with widget1:\r\n",
        "    plt.hist(trainpd[\"chars_description\"])\r\n",
        "    display(plt.show())\r\n",
        "with widget2:\r\n",
        "    plt.hist(testpd[\"chars_description\"])\r\n",
        "    display(plt.show())\r\n",
        "\r\n",
        "# add some CSS styles to distribute free space\r\n",
        "box_layout = Layout(display='flex',\r\n",
        "                    flex_flow='row',\r\n",
        "                    justify_content='space-around',\r\n",
        "                    width='auto'\r\n",
        "                   )\r\n",
        "    \r\n",
        "# create Horisontal Box container\r\n",
        "hbox = widgets.HBox([widget1, widget2], layout=box_layout)\r\n",
        "\r\n",
        "# render hbox\r\n",
        "hbox"
      ],
      "execution_count": 36,
      "outputs": [
        {
          "output_type": "display_data",
          "data": {
            "application/vnd.jupyter.widget-view+json": {
              "model_id": "68814dae6e4b4496a70a1a2ba677c4ef",
              "version_minor": 0,
              "version_major": 2
            },
            "text/plain": [
              "HBox(children=(Output(), Output()), layout=Layout(display='flex', flex_flow='row', justify_content='space-arou…"
            ]
          },
          "metadata": {
            "tags": []
          }
        }
      ]
    },
    {
      "cell_type": "markdown",
      "metadata": {
        "id": "eLaDPGkLg2H-"
      },
      "source": [
        "## Limpieza de datos"
      ]
    },
    {
      "cell_type": "code",
      "metadata": {
        "id": "P0aW1mtUgyov",
        "outputId": "c11c90ad-c7de-43c2-ed83-5a9c2171dc5c",
        "colab": {
          "base_uri": "https://localhost:8080/"
        }
      },
      "source": [
        "# Revisión de frases largas\r\n",
        "\r\n",
        "kk=trainpd.filter(trainpd['lines_description']>1)\r\n",
        "\r\n",
        "kk2= trainpd.loc[trainpd['lines_description'] >1]\r\n",
        "print(kk2['description'])"
      ],
      "execution_count": 37,
      "outputs": [
        {
          "output_type": "stream",
          "text": [
            "18924    Round neck top with long sleeves and ruffle ap...\n",
            "25292    Black high-heeled mules. Animal print uppers. ...\n",
            "Name: description, dtype: object\n"
          ],
          "name": "stdout"
        }
      ]
    }
  ]
}