{
  "nbformat": 4,
  "nbformat_minor": 0,
  "metadata": {
    "colab": {
      "name": "AbstractiveSummarization.ipynb",
      "provenance": [],
      "collapsed_sections": [],
      "authorship_tag": "ABX9TyOmVKE2tVV7q3B//+EWT3T6",
      "include_colab_link": true
    },
    "kernelspec": {
      "name": "python3",
      "display_name": "Python 3"
    },
    "widgets": {
      "application/vnd.jupyter.widget-state+json": {
        "c11f693378c147a8bdf09eb88d024df2": {
          "model_module": "@jupyter-widgets/controls",
          "model_name": "HBoxModel",
          "state": {
            "_view_name": "HBoxView",
            "_dom_classes": [],
            "_model_name": "HBoxModel",
            "_view_module": "@jupyter-widgets/controls",
            "_model_module_version": "1.5.0",
            "_view_count": null,
            "_view_module_version": "1.5.0",
            "box_style": "",
            "layout": "IPY_MODEL_56fd24e728aa413b80675c8b238069b0",
            "_model_module": "@jupyter-widgets/controls",
            "children": [
              "IPY_MODEL_9a27c80d95d74f5c9ee652023fb459ab",
              "IPY_MODEL_7ddce65ae13e4ad09a8233f2ac76acde"
            ]
          }
        },
        "56fd24e728aa413b80675c8b238069b0": {
          "model_module": "@jupyter-widgets/base",
          "model_name": "LayoutModel",
          "state": {
            "_view_name": "LayoutView",
            "grid_template_rows": null,
            "right": null,
            "justify_content": null,
            "_view_module": "@jupyter-widgets/base",
            "overflow": null,
            "_model_module_version": "1.2.0",
            "_view_count": null,
            "flex_flow": null,
            "width": null,
            "min_width": null,
            "border": null,
            "align_items": null,
            "bottom": null,
            "_model_module": "@jupyter-widgets/base",
            "top": null,
            "grid_column": null,
            "overflow_y": null,
            "overflow_x": null,
            "grid_auto_flow": null,
            "grid_area": null,
            "grid_template_columns": null,
            "flex": null,
            "_model_name": "LayoutModel",
            "justify_items": null,
            "grid_row": null,
            "max_height": null,
            "align_content": null,
            "visibility": null,
            "align_self": null,
            "height": null,
            "min_height": null,
            "padding": null,
            "grid_auto_rows": null,
            "grid_gap": null,
            "max_width": null,
            "order": null,
            "_view_module_version": "1.2.0",
            "grid_template_areas": null,
            "object_position": null,
            "object_fit": null,
            "grid_auto_columns": null,
            "margin": null,
            "display": null,
            "left": null
          }
        },
        "9a27c80d95d74f5c9ee652023fb459ab": {
          "model_module": "@jupyter-widgets/controls",
          "model_name": "FloatProgressModel",
          "state": {
            "_view_name": "ProgressView",
            "style": "IPY_MODEL_8c5c93d7f96f46bd84913d8f67c0eb0c",
            "_dom_classes": [],
            "description": "Downloading: 100%",
            "_model_name": "FloatProgressModel",
            "bar_style": "success",
            "max": 1621,
            "_view_module": "@jupyter-widgets/controls",
            "_model_module_version": "1.5.0",
            "value": 1621,
            "_view_count": null,
            "_view_module_version": "1.5.0",
            "orientation": "horizontal",
            "min": 0,
            "description_tooltip": null,
            "_model_module": "@jupyter-widgets/controls",
            "layout": "IPY_MODEL_870fc9764b6d4b3d927f38be37fa256b"
          }
        },
        "7ddce65ae13e4ad09a8233f2ac76acde": {
          "model_module": "@jupyter-widgets/controls",
          "model_name": "HTMLModel",
          "state": {
            "_view_name": "HTMLView",
            "style": "IPY_MODEL_c6611e594876414eab376a3541c16eae",
            "_dom_classes": [],
            "description": "",
            "_model_name": "HTMLModel",
            "placeholder": "​",
            "_view_module": "@jupyter-widgets/controls",
            "_model_module_version": "1.5.0",
            "value": " 1.62k/1.62k [00:00&lt;00:00, 12.0kB/s]",
            "_view_count": null,
            "_view_module_version": "1.5.0",
            "description_tooltip": null,
            "_model_module": "@jupyter-widgets/controls",
            "layout": "IPY_MODEL_f33aa35694a14960af3d3aeeb3265d1c"
          }
        },
        "8c5c93d7f96f46bd84913d8f67c0eb0c": {
          "model_module": "@jupyter-widgets/controls",
          "model_name": "ProgressStyleModel",
          "state": {
            "_view_name": "StyleView",
            "_model_name": "ProgressStyleModel",
            "description_width": "initial",
            "_view_module": "@jupyter-widgets/base",
            "_model_module_version": "1.5.0",
            "_view_count": null,
            "_view_module_version": "1.2.0",
            "bar_color": null,
            "_model_module": "@jupyter-widgets/controls"
          }
        },
        "870fc9764b6d4b3d927f38be37fa256b": {
          "model_module": "@jupyter-widgets/base",
          "model_name": "LayoutModel",
          "state": {
            "_view_name": "LayoutView",
            "grid_template_rows": null,
            "right": null,
            "justify_content": null,
            "_view_module": "@jupyter-widgets/base",
            "overflow": null,
            "_model_module_version": "1.2.0",
            "_view_count": null,
            "flex_flow": null,
            "width": null,
            "min_width": null,
            "border": null,
            "align_items": null,
            "bottom": null,
            "_model_module": "@jupyter-widgets/base",
            "top": null,
            "grid_column": null,
            "overflow_y": null,
            "overflow_x": null,
            "grid_auto_flow": null,
            "grid_area": null,
            "grid_template_columns": null,
            "flex": null,
            "_model_name": "LayoutModel",
            "justify_items": null,
            "grid_row": null,
            "max_height": null,
            "align_content": null,
            "visibility": null,
            "align_self": null,
            "height": null,
            "min_height": null,
            "padding": null,
            "grid_auto_rows": null,
            "grid_gap": null,
            "max_width": null,
            "order": null,
            "_view_module_version": "1.2.0",
            "grid_template_areas": null,
            "object_position": null,
            "object_fit": null,
            "grid_auto_columns": null,
            "margin": null,
            "display": null,
            "left": null
          }
        },
        "c6611e594876414eab376a3541c16eae": {
          "model_module": "@jupyter-widgets/controls",
          "model_name": "DescriptionStyleModel",
          "state": {
            "_view_name": "StyleView",
            "_model_name": "DescriptionStyleModel",
            "description_width": "",
            "_view_module": "@jupyter-widgets/base",
            "_model_module_version": "1.5.0",
            "_view_count": null,
            "_view_module_version": "1.2.0",
            "_model_module": "@jupyter-widgets/controls"
          }
        },
        "f33aa35694a14960af3d3aeeb3265d1c": {
          "model_module": "@jupyter-widgets/base",
          "model_name": "LayoutModel",
          "state": {
            "_view_name": "LayoutView",
            "grid_template_rows": null,
            "right": null,
            "justify_content": null,
            "_view_module": "@jupyter-widgets/base",
            "overflow": null,
            "_model_module_version": "1.2.0",
            "_view_count": null,
            "flex_flow": null,
            "width": null,
            "min_width": null,
            "border": null,
            "align_items": null,
            "bottom": null,
            "_model_module": "@jupyter-widgets/base",
            "top": null,
            "grid_column": null,
            "overflow_y": null,
            "overflow_x": null,
            "grid_auto_flow": null,
            "grid_area": null,
            "grid_template_columns": null,
            "flex": null,
            "_model_name": "LayoutModel",
            "justify_items": null,
            "grid_row": null,
            "max_height": null,
            "align_content": null,
            "visibility": null,
            "align_self": null,
            "height": null,
            "min_height": null,
            "padding": null,
            "grid_auto_rows": null,
            "grid_gap": null,
            "max_width": null,
            "order": null,
            "_view_module_version": "1.2.0",
            "grid_template_areas": null,
            "object_position": null,
            "object_fit": null,
            "grid_auto_columns": null,
            "margin": null,
            "display": null,
            "left": null
          }
        },
        "81d7c12d3e864ef6861d5264ee3f49f0": {
          "model_module": "@jupyter-widgets/controls",
          "model_name": "HBoxModel",
          "state": {
            "_view_name": "HBoxView",
            "_dom_classes": [],
            "_model_name": "HBoxModel",
            "_view_module": "@jupyter-widgets/controls",
            "_model_module_version": "1.5.0",
            "_view_count": null,
            "_view_module_version": "1.5.0",
            "box_style": "",
            "layout": "IPY_MODEL_85103265cf34413495cdfc9c039002a4",
            "_model_module": "@jupyter-widgets/controls",
            "children": [
              "IPY_MODEL_f22f683845044cfe87143ce79dd586f7",
              "IPY_MODEL_c86ab1cbd8e9485ea3e2bbc94b233618"
            ]
          }
        },
        "85103265cf34413495cdfc9c039002a4": {
          "model_module": "@jupyter-widgets/base",
          "model_name": "LayoutModel",
          "state": {
            "_view_name": "LayoutView",
            "grid_template_rows": null,
            "right": null,
            "justify_content": null,
            "_view_module": "@jupyter-widgets/base",
            "overflow": null,
            "_model_module_version": "1.2.0",
            "_view_count": null,
            "flex_flow": null,
            "width": null,
            "min_width": null,
            "border": null,
            "align_items": null,
            "bottom": null,
            "_model_module": "@jupyter-widgets/base",
            "top": null,
            "grid_column": null,
            "overflow_y": null,
            "overflow_x": null,
            "grid_auto_flow": null,
            "grid_area": null,
            "grid_template_columns": null,
            "flex": null,
            "_model_name": "LayoutModel",
            "justify_items": null,
            "grid_row": null,
            "max_height": null,
            "align_content": null,
            "visibility": null,
            "align_self": null,
            "height": null,
            "min_height": null,
            "padding": null,
            "grid_auto_rows": null,
            "grid_gap": null,
            "max_width": null,
            "order": null,
            "_view_module_version": "1.2.0",
            "grid_template_areas": null,
            "object_position": null,
            "object_fit": null,
            "grid_auto_columns": null,
            "margin": null,
            "display": null,
            "left": null
          }
        },
        "f22f683845044cfe87143ce79dd586f7": {
          "model_module": "@jupyter-widgets/controls",
          "model_name": "FloatProgressModel",
          "state": {
            "_view_name": "ProgressView",
            "style": "IPY_MODEL_b192be725b7148c9b4626cc5a1a3915f",
            "_dom_classes": [],
            "description": "Downloading: 100%",
            "_model_name": "FloatProgressModel",
            "bar_style": "success",
            "max": 1222317369,
            "_view_module": "@jupyter-widgets/controls",
            "_model_module_version": "1.5.0",
            "value": 1222317369,
            "_view_count": null,
            "_view_module_version": "1.5.0",
            "orientation": "horizontal",
            "min": 0,
            "description_tooltip": null,
            "_model_module": "@jupyter-widgets/controls",
            "layout": "IPY_MODEL_68c3baeecc2c438f9be6fa7c46cfb58d"
          }
        },
        "c86ab1cbd8e9485ea3e2bbc94b233618": {
          "model_module": "@jupyter-widgets/controls",
          "model_name": "HTMLModel",
          "state": {
            "_view_name": "HTMLView",
            "style": "IPY_MODEL_7a4f5ab928064f5fba70a4c320f0571b",
            "_dom_classes": [],
            "description": "",
            "_model_name": "HTMLModel",
            "placeholder": "​",
            "_view_module": "@jupyter-widgets/controls",
            "_model_module_version": "1.5.0",
            "value": " 1.22G/1.22G [00:26&lt;00:00, 45.4MB/s]",
            "_view_count": null,
            "_view_module_version": "1.5.0",
            "description_tooltip": null,
            "_model_module": "@jupyter-widgets/controls",
            "layout": "IPY_MODEL_82f9b4cce63c42c79e745cefb83a4550"
          }
        },
        "b192be725b7148c9b4626cc5a1a3915f": {
          "model_module": "@jupyter-widgets/controls",
          "model_name": "ProgressStyleModel",
          "state": {
            "_view_name": "StyleView",
            "_model_name": "ProgressStyleModel",
            "description_width": "initial",
            "_view_module": "@jupyter-widgets/base",
            "_model_module_version": "1.5.0",
            "_view_count": null,
            "_view_module_version": "1.2.0",
            "bar_color": null,
            "_model_module": "@jupyter-widgets/controls"
          }
        },
        "68c3baeecc2c438f9be6fa7c46cfb58d": {
          "model_module": "@jupyter-widgets/base",
          "model_name": "LayoutModel",
          "state": {
            "_view_name": "LayoutView",
            "grid_template_rows": null,
            "right": null,
            "justify_content": null,
            "_view_module": "@jupyter-widgets/base",
            "overflow": null,
            "_model_module_version": "1.2.0",
            "_view_count": null,
            "flex_flow": null,
            "width": null,
            "min_width": null,
            "border": null,
            "align_items": null,
            "bottom": null,
            "_model_module": "@jupyter-widgets/base",
            "top": null,
            "grid_column": null,
            "overflow_y": null,
            "overflow_x": null,
            "grid_auto_flow": null,
            "grid_area": null,
            "grid_template_columns": null,
            "flex": null,
            "_model_name": "LayoutModel",
            "justify_items": null,
            "grid_row": null,
            "max_height": null,
            "align_content": null,
            "visibility": null,
            "align_self": null,
            "height": null,
            "min_height": null,
            "padding": null,
            "grid_auto_rows": null,
            "grid_gap": null,
            "max_width": null,
            "order": null,
            "_view_module_version": "1.2.0",
            "grid_template_areas": null,
            "object_position": null,
            "object_fit": null,
            "grid_auto_columns": null,
            "margin": null,
            "display": null,
            "left": null
          }
        },
        "7a4f5ab928064f5fba70a4c320f0571b": {
          "model_module": "@jupyter-widgets/controls",
          "model_name": "DescriptionStyleModel",
          "state": {
            "_view_name": "StyleView",
            "_model_name": "DescriptionStyleModel",
            "description_width": "",
            "_view_module": "@jupyter-widgets/base",
            "_model_module_version": "1.5.0",
            "_view_count": null,
            "_view_module_version": "1.2.0",
            "_model_module": "@jupyter-widgets/controls"
          }
        },
        "82f9b4cce63c42c79e745cefb83a4550": {
          "model_module": "@jupyter-widgets/base",
          "model_name": "LayoutModel",
          "state": {
            "_view_name": "LayoutView",
            "grid_template_rows": null,
            "right": null,
            "justify_content": null,
            "_view_module": "@jupyter-widgets/base",
            "overflow": null,
            "_model_module_version": "1.2.0",
            "_view_count": null,
            "flex_flow": null,
            "width": null,
            "min_width": null,
            "border": null,
            "align_items": null,
            "bottom": null,
            "_model_module": "@jupyter-widgets/base",
            "top": null,
            "grid_column": null,
            "overflow_y": null,
            "overflow_x": null,
            "grid_auto_flow": null,
            "grid_area": null,
            "grid_template_columns": null,
            "flex": null,
            "_model_name": "LayoutModel",
            "justify_items": null,
            "grid_row": null,
            "max_height": null,
            "align_content": null,
            "visibility": null,
            "align_self": null,
            "height": null,
            "min_height": null,
            "padding": null,
            "grid_auto_rows": null,
            "grid_gap": null,
            "max_width": null,
            "order": null,
            "_view_module_version": "1.2.0",
            "grid_template_areas": null,
            "object_position": null,
            "object_fit": null,
            "grid_auto_columns": null,
            "margin": null,
            "display": null,
            "left": null
          }
        },
        "a553b89dcd1e41ddafa7f4b4c5d75a26": {
          "model_module": "@jupyter-widgets/controls",
          "model_name": "HBoxModel",
          "state": {
            "_view_name": "HBoxView",
            "_dom_classes": [],
            "_model_name": "HBoxModel",
            "_view_module": "@jupyter-widgets/controls",
            "_model_module_version": "1.5.0",
            "_view_count": null,
            "_view_module_version": "1.5.0",
            "box_style": "",
            "layout": "IPY_MODEL_dc43e64a53d840d087a4b9a3401fa2d9",
            "_model_module": "@jupyter-widgets/controls",
            "children": [
              "IPY_MODEL_774f090056664a61a773fcd117ac1775",
              "IPY_MODEL_c8d1394f29e34eeea460c6035a3a0d8a"
            ]
          }
        },
        "dc43e64a53d840d087a4b9a3401fa2d9": {
          "model_module": "@jupyter-widgets/base",
          "model_name": "LayoutModel",
          "state": {
            "_view_name": "LayoutView",
            "grid_template_rows": null,
            "right": null,
            "justify_content": null,
            "_view_module": "@jupyter-widgets/base",
            "overflow": null,
            "_model_module_version": "1.2.0",
            "_view_count": null,
            "flex_flow": null,
            "width": null,
            "min_width": null,
            "border": null,
            "align_items": null,
            "bottom": null,
            "_model_module": "@jupyter-widgets/base",
            "top": null,
            "grid_column": null,
            "overflow_y": null,
            "overflow_x": null,
            "grid_auto_flow": null,
            "grid_area": null,
            "grid_template_columns": null,
            "flex": null,
            "_model_name": "LayoutModel",
            "justify_items": null,
            "grid_row": null,
            "max_height": null,
            "align_content": null,
            "visibility": null,
            "align_self": null,
            "height": null,
            "min_height": null,
            "padding": null,
            "grid_auto_rows": null,
            "grid_gap": null,
            "max_width": null,
            "order": null,
            "_view_module_version": "1.2.0",
            "grid_template_areas": null,
            "object_position": null,
            "object_fit": null,
            "grid_auto_columns": null,
            "margin": null,
            "display": null,
            "left": null
          }
        },
        "774f090056664a61a773fcd117ac1775": {
          "model_module": "@jupyter-widgets/controls",
          "model_name": "FloatProgressModel",
          "state": {
            "_view_name": "ProgressView",
            "style": "IPY_MODEL_b36351f8d8f4491db114d1b4056ea316",
            "_dom_classes": [],
            "description": "Downloading: 100%",
            "_model_name": "FloatProgressModel",
            "bar_style": "success",
            "max": 898822,
            "_view_module": "@jupyter-widgets/controls",
            "_model_module_version": "1.5.0",
            "value": 898822,
            "_view_count": null,
            "_view_module_version": "1.5.0",
            "orientation": "horizontal",
            "min": 0,
            "description_tooltip": null,
            "_model_module": "@jupyter-widgets/controls",
            "layout": "IPY_MODEL_f04340716cd8446aa186da6844145270"
          }
        },
        "c8d1394f29e34eeea460c6035a3a0d8a": {
          "model_module": "@jupyter-widgets/controls",
          "model_name": "HTMLModel",
          "state": {
            "_view_name": "HTMLView",
            "style": "IPY_MODEL_b524deaa038b470cbae2e6b5dcd02ff4",
            "_dom_classes": [],
            "description": "",
            "_model_name": "HTMLModel",
            "placeholder": "​",
            "_view_module": "@jupyter-widgets/controls",
            "_model_module_version": "1.5.0",
            "value": " 899k/899k [00:00&lt;00:00, 3.56MB/s]",
            "_view_count": null,
            "_view_module_version": "1.5.0",
            "description_tooltip": null,
            "_model_module": "@jupyter-widgets/controls",
            "layout": "IPY_MODEL_069d9df17dee4e8aa62fdd67543a5832"
          }
        },
        "b36351f8d8f4491db114d1b4056ea316": {
          "model_module": "@jupyter-widgets/controls",
          "model_name": "ProgressStyleModel",
          "state": {
            "_view_name": "StyleView",
            "_model_name": "ProgressStyleModel",
            "description_width": "initial",
            "_view_module": "@jupyter-widgets/base",
            "_model_module_version": "1.5.0",
            "_view_count": null,
            "_view_module_version": "1.2.0",
            "bar_color": null,
            "_model_module": "@jupyter-widgets/controls"
          }
        },
        "f04340716cd8446aa186da6844145270": {
          "model_module": "@jupyter-widgets/base",
          "model_name": "LayoutModel",
          "state": {
            "_view_name": "LayoutView",
            "grid_template_rows": null,
            "right": null,
            "justify_content": null,
            "_view_module": "@jupyter-widgets/base",
            "overflow": null,
            "_model_module_version": "1.2.0",
            "_view_count": null,
            "flex_flow": null,
            "width": null,
            "min_width": null,
            "border": null,
            "align_items": null,
            "bottom": null,
            "_model_module": "@jupyter-widgets/base",
            "top": null,
            "grid_column": null,
            "overflow_y": null,
            "overflow_x": null,
            "grid_auto_flow": null,
            "grid_area": null,
            "grid_template_columns": null,
            "flex": null,
            "_model_name": "LayoutModel",
            "justify_items": null,
            "grid_row": null,
            "max_height": null,
            "align_content": null,
            "visibility": null,
            "align_self": null,
            "height": null,
            "min_height": null,
            "padding": null,
            "grid_auto_rows": null,
            "grid_gap": null,
            "max_width": null,
            "order": null,
            "_view_module_version": "1.2.0",
            "grid_template_areas": null,
            "object_position": null,
            "object_fit": null,
            "grid_auto_columns": null,
            "margin": null,
            "display": null,
            "left": null
          }
        },
        "b524deaa038b470cbae2e6b5dcd02ff4": {
          "model_module": "@jupyter-widgets/controls",
          "model_name": "DescriptionStyleModel",
          "state": {
            "_view_name": "StyleView",
            "_model_name": "DescriptionStyleModel",
            "description_width": "",
            "_view_module": "@jupyter-widgets/base",
            "_model_module_version": "1.5.0",
            "_view_count": null,
            "_view_module_version": "1.2.0",
            "_model_module": "@jupyter-widgets/controls"
          }
        },
        "069d9df17dee4e8aa62fdd67543a5832": {
          "model_module": "@jupyter-widgets/base",
          "model_name": "LayoutModel",
          "state": {
            "_view_name": "LayoutView",
            "grid_template_rows": null,
            "right": null,
            "justify_content": null,
            "_view_module": "@jupyter-widgets/base",
            "overflow": null,
            "_model_module_version": "1.2.0",
            "_view_count": null,
            "flex_flow": null,
            "width": null,
            "min_width": null,
            "border": null,
            "align_items": null,
            "bottom": null,
            "_model_module": "@jupyter-widgets/base",
            "top": null,
            "grid_column": null,
            "overflow_y": null,
            "overflow_x": null,
            "grid_auto_flow": null,
            "grid_area": null,
            "grid_template_columns": null,
            "flex": null,
            "_model_name": "LayoutModel",
            "justify_items": null,
            "grid_row": null,
            "max_height": null,
            "align_content": null,
            "visibility": null,
            "align_self": null,
            "height": null,
            "min_height": null,
            "padding": null,
            "grid_auto_rows": null,
            "grid_gap": null,
            "max_width": null,
            "order": null,
            "_view_module_version": "1.2.0",
            "grid_template_areas": null,
            "object_position": null,
            "object_fit": null,
            "grid_auto_columns": null,
            "margin": null,
            "display": null,
            "left": null
          }
        },
        "971c9fe9fa184d938f0360b4938e8362": {
          "model_module": "@jupyter-widgets/controls",
          "model_name": "HBoxModel",
          "state": {
            "_view_name": "HBoxView",
            "_dom_classes": [],
            "_model_name": "HBoxModel",
            "_view_module": "@jupyter-widgets/controls",
            "_model_module_version": "1.5.0",
            "_view_count": null,
            "_view_module_version": "1.5.0",
            "box_style": "",
            "layout": "IPY_MODEL_75877e34502748a88977147640cde5f6",
            "_model_module": "@jupyter-widgets/controls",
            "children": [
              "IPY_MODEL_cefb2df1541b4f15b67efa3bc44cf716",
              "IPY_MODEL_8d08c3a815024beaadd597528eb2ea28"
            ]
          }
        },
        "75877e34502748a88977147640cde5f6": {
          "model_module": "@jupyter-widgets/base",
          "model_name": "LayoutModel",
          "state": {
            "_view_name": "LayoutView",
            "grid_template_rows": null,
            "right": null,
            "justify_content": null,
            "_view_module": "@jupyter-widgets/base",
            "overflow": null,
            "_model_module_version": "1.2.0",
            "_view_count": null,
            "flex_flow": null,
            "width": null,
            "min_width": null,
            "border": null,
            "align_items": null,
            "bottom": null,
            "_model_module": "@jupyter-widgets/base",
            "top": null,
            "grid_column": null,
            "overflow_y": null,
            "overflow_x": null,
            "grid_auto_flow": null,
            "grid_area": null,
            "grid_template_columns": null,
            "flex": null,
            "_model_name": "LayoutModel",
            "justify_items": null,
            "grid_row": null,
            "max_height": null,
            "align_content": null,
            "visibility": null,
            "align_self": null,
            "height": null,
            "min_height": null,
            "padding": null,
            "grid_auto_rows": null,
            "grid_gap": null,
            "max_width": null,
            "order": null,
            "_view_module_version": "1.2.0",
            "grid_template_areas": null,
            "object_position": null,
            "object_fit": null,
            "grid_auto_columns": null,
            "margin": null,
            "display": null,
            "left": null
          }
        },
        "cefb2df1541b4f15b67efa3bc44cf716": {
          "model_module": "@jupyter-widgets/controls",
          "model_name": "FloatProgressModel",
          "state": {
            "_view_name": "ProgressView",
            "style": "IPY_MODEL_325c08fdc0b74a80997b8377be86ec19",
            "_dom_classes": [],
            "description": "Downloading: 100%",
            "_model_name": "FloatProgressModel",
            "bar_style": "success",
            "max": 456318,
            "_view_module": "@jupyter-widgets/controls",
            "_model_module_version": "1.5.0",
            "value": 456318,
            "_view_count": null,
            "_view_module_version": "1.5.0",
            "orientation": "horizontal",
            "min": 0,
            "description_tooltip": null,
            "_model_module": "@jupyter-widgets/controls",
            "layout": "IPY_MODEL_8e91cb4488ac499fa880c18d772a4f6d"
          }
        },
        "8d08c3a815024beaadd597528eb2ea28": {
          "model_module": "@jupyter-widgets/controls",
          "model_name": "HTMLModel",
          "state": {
            "_view_name": "HTMLView",
            "style": "IPY_MODEL_496d6d98ace8462c857928ea5997001c",
            "_dom_classes": [],
            "description": "",
            "_model_name": "HTMLModel",
            "placeholder": "​",
            "_view_module": "@jupyter-widgets/controls",
            "_model_module_version": "1.5.0",
            "value": " 456k/456k [00:00&lt;00:00, 3.10MB/s]",
            "_view_count": null,
            "_view_module_version": "1.5.0",
            "description_tooltip": null,
            "_model_module": "@jupyter-widgets/controls",
            "layout": "IPY_MODEL_5c35952574de454e9f2a2071a8f390d9"
          }
        },
        "325c08fdc0b74a80997b8377be86ec19": {
          "model_module": "@jupyter-widgets/controls",
          "model_name": "ProgressStyleModel",
          "state": {
            "_view_name": "StyleView",
            "_model_name": "ProgressStyleModel",
            "description_width": "initial",
            "_view_module": "@jupyter-widgets/base",
            "_model_module_version": "1.5.0",
            "_view_count": null,
            "_view_module_version": "1.2.0",
            "bar_color": null,
            "_model_module": "@jupyter-widgets/controls"
          }
        },
        "8e91cb4488ac499fa880c18d772a4f6d": {
          "model_module": "@jupyter-widgets/base",
          "model_name": "LayoutModel",
          "state": {
            "_view_name": "LayoutView",
            "grid_template_rows": null,
            "right": null,
            "justify_content": null,
            "_view_module": "@jupyter-widgets/base",
            "overflow": null,
            "_model_module_version": "1.2.0",
            "_view_count": null,
            "flex_flow": null,
            "width": null,
            "min_width": null,
            "border": null,
            "align_items": null,
            "bottom": null,
            "_model_module": "@jupyter-widgets/base",
            "top": null,
            "grid_column": null,
            "overflow_y": null,
            "overflow_x": null,
            "grid_auto_flow": null,
            "grid_area": null,
            "grid_template_columns": null,
            "flex": null,
            "_model_name": "LayoutModel",
            "justify_items": null,
            "grid_row": null,
            "max_height": null,
            "align_content": null,
            "visibility": null,
            "align_self": null,
            "height": null,
            "min_height": null,
            "padding": null,
            "grid_auto_rows": null,
            "grid_gap": null,
            "max_width": null,
            "order": null,
            "_view_module_version": "1.2.0",
            "grid_template_areas": null,
            "object_position": null,
            "object_fit": null,
            "grid_auto_columns": null,
            "margin": null,
            "display": null,
            "left": null
          }
        },
        "496d6d98ace8462c857928ea5997001c": {
          "model_module": "@jupyter-widgets/controls",
          "model_name": "DescriptionStyleModel",
          "state": {
            "_view_name": "StyleView",
            "_model_name": "DescriptionStyleModel",
            "description_width": "",
            "_view_module": "@jupyter-widgets/base",
            "_model_module_version": "1.5.0",
            "_view_count": null,
            "_view_module_version": "1.2.0",
            "_model_module": "@jupyter-widgets/controls"
          }
        },
        "5c35952574de454e9f2a2071a8f390d9": {
          "model_module": "@jupyter-widgets/base",
          "model_name": "LayoutModel",
          "state": {
            "_view_name": "LayoutView",
            "grid_template_rows": null,
            "right": null,
            "justify_content": null,
            "_view_module": "@jupyter-widgets/base",
            "overflow": null,
            "_model_module_version": "1.2.0",
            "_view_count": null,
            "flex_flow": null,
            "width": null,
            "min_width": null,
            "border": null,
            "align_items": null,
            "bottom": null,
            "_model_module": "@jupyter-widgets/base",
            "top": null,
            "grid_column": null,
            "overflow_y": null,
            "overflow_x": null,
            "grid_auto_flow": null,
            "grid_area": null,
            "grid_template_columns": null,
            "flex": null,
            "_model_name": "LayoutModel",
            "justify_items": null,
            "grid_row": null,
            "max_height": null,
            "align_content": null,
            "visibility": null,
            "align_self": null,
            "height": null,
            "min_height": null,
            "padding": null,
            "grid_auto_rows": null,
            "grid_gap": null,
            "max_width": null,
            "order": null,
            "_view_module_version": "1.2.0",
            "grid_template_areas": null,
            "object_position": null,
            "object_fit": null,
            "grid_auto_columns": null,
            "margin": null,
            "display": null,
            "left": null
          }
        },
        "5b47859b6d6345588d18a82a389eaf42": {
          "model_module": "@jupyter-widgets/controls",
          "model_name": "HBoxModel",
          "state": {
            "_view_name": "HBoxView",
            "_dom_classes": [],
            "_model_name": "HBoxModel",
            "_view_module": "@jupyter-widgets/controls",
            "_model_module_version": "1.5.0",
            "_view_count": null,
            "_view_module_version": "1.5.0",
            "box_style": "",
            "layout": "IPY_MODEL_89134356bb3b4268b1126d049d756270",
            "_model_module": "@jupyter-widgets/controls",
            "children": [
              "IPY_MODEL_feb9ad9fcc2546a89589f8192def25b0",
              "IPY_MODEL_a0514a8e8d05424c84655746de9f7be6"
            ]
          }
        },
        "89134356bb3b4268b1126d049d756270": {
          "model_module": "@jupyter-widgets/base",
          "model_name": "LayoutModel",
          "state": {
            "_view_name": "LayoutView",
            "grid_template_rows": null,
            "right": null,
            "justify_content": null,
            "_view_module": "@jupyter-widgets/base",
            "overflow": null,
            "_model_module_version": "1.2.0",
            "_view_count": null,
            "flex_flow": null,
            "width": null,
            "min_width": null,
            "border": null,
            "align_items": null,
            "bottom": null,
            "_model_module": "@jupyter-widgets/base",
            "top": null,
            "grid_column": null,
            "overflow_y": null,
            "overflow_x": null,
            "grid_auto_flow": null,
            "grid_area": null,
            "grid_template_columns": null,
            "flex": null,
            "_model_name": "LayoutModel",
            "justify_items": null,
            "grid_row": null,
            "max_height": null,
            "align_content": null,
            "visibility": null,
            "align_self": null,
            "height": null,
            "min_height": null,
            "padding": null,
            "grid_auto_rows": null,
            "grid_gap": null,
            "max_width": null,
            "order": null,
            "_view_module_version": "1.2.0",
            "grid_template_areas": null,
            "object_position": null,
            "object_fit": null,
            "grid_auto_columns": null,
            "margin": null,
            "display": null,
            "left": null
          }
        },
        "feb9ad9fcc2546a89589f8192def25b0": {
          "model_module": "@jupyter-widgets/controls",
          "model_name": "FloatProgressModel",
          "state": {
            "_view_name": "ProgressView",
            "style": "IPY_MODEL_e8b77078b37d412d8e039add2d65570f",
            "_dom_classes": [],
            "description": "Downloading: 100%",
            "_model_name": "FloatProgressModel",
            "bar_style": "success",
            "max": 26,
            "_view_module": "@jupyter-widgets/controls",
            "_model_module_version": "1.5.0",
            "value": 26,
            "_view_count": null,
            "_view_module_version": "1.5.0",
            "orientation": "horizontal",
            "min": 0,
            "description_tooltip": null,
            "_model_module": "@jupyter-widgets/controls",
            "layout": "IPY_MODEL_7366e4f3601048fb88b3f07ef1a4580b"
          }
        },
        "a0514a8e8d05424c84655746de9f7be6": {
          "model_module": "@jupyter-widgets/controls",
          "model_name": "HTMLModel",
          "state": {
            "_view_name": "HTMLView",
            "style": "IPY_MODEL_c1eb09d77f7b4d13832288d36e8b5775",
            "_dom_classes": [],
            "description": "",
            "_model_name": "HTMLModel",
            "placeholder": "​",
            "_view_module": "@jupyter-widgets/controls",
            "_model_module_version": "1.5.0",
            "value": " 26.0/26.0 [00:00&lt;00:00, 279B/s]",
            "_view_count": null,
            "_view_module_version": "1.5.0",
            "description_tooltip": null,
            "_model_module": "@jupyter-widgets/controls",
            "layout": "IPY_MODEL_8e475f829feb47a58723b324caa25d56"
          }
        },
        "e8b77078b37d412d8e039add2d65570f": {
          "model_module": "@jupyter-widgets/controls",
          "model_name": "ProgressStyleModel",
          "state": {
            "_view_name": "StyleView",
            "_model_name": "ProgressStyleModel",
            "description_width": "initial",
            "_view_module": "@jupyter-widgets/base",
            "_model_module_version": "1.5.0",
            "_view_count": null,
            "_view_module_version": "1.2.0",
            "bar_color": null,
            "_model_module": "@jupyter-widgets/controls"
          }
        },
        "7366e4f3601048fb88b3f07ef1a4580b": {
          "model_module": "@jupyter-widgets/base",
          "model_name": "LayoutModel",
          "state": {
            "_view_name": "LayoutView",
            "grid_template_rows": null,
            "right": null,
            "justify_content": null,
            "_view_module": "@jupyter-widgets/base",
            "overflow": null,
            "_model_module_version": "1.2.0",
            "_view_count": null,
            "flex_flow": null,
            "width": null,
            "min_width": null,
            "border": null,
            "align_items": null,
            "bottom": null,
            "_model_module": "@jupyter-widgets/base",
            "top": null,
            "grid_column": null,
            "overflow_y": null,
            "overflow_x": null,
            "grid_auto_flow": null,
            "grid_area": null,
            "grid_template_columns": null,
            "flex": null,
            "_model_name": "LayoutModel",
            "justify_items": null,
            "grid_row": null,
            "max_height": null,
            "align_content": null,
            "visibility": null,
            "align_self": null,
            "height": null,
            "min_height": null,
            "padding": null,
            "grid_auto_rows": null,
            "grid_gap": null,
            "max_width": null,
            "order": null,
            "_view_module_version": "1.2.0",
            "grid_template_areas": null,
            "object_position": null,
            "object_fit": null,
            "grid_auto_columns": null,
            "margin": null,
            "display": null,
            "left": null
          }
        },
        "c1eb09d77f7b4d13832288d36e8b5775": {
          "model_module": "@jupyter-widgets/controls",
          "model_name": "DescriptionStyleModel",
          "state": {
            "_view_name": "StyleView",
            "_model_name": "DescriptionStyleModel",
            "description_width": "",
            "_view_module": "@jupyter-widgets/base",
            "_model_module_version": "1.5.0",
            "_view_count": null,
            "_view_module_version": "1.2.0",
            "_model_module": "@jupyter-widgets/controls"
          }
        },
        "8e475f829feb47a58723b324caa25d56": {
          "model_module": "@jupyter-widgets/base",
          "model_name": "LayoutModel",
          "state": {
            "_view_name": "LayoutView",
            "grid_template_rows": null,
            "right": null,
            "justify_content": null,
            "_view_module": "@jupyter-widgets/base",
            "overflow": null,
            "_model_module_version": "1.2.0",
            "_view_count": null,
            "flex_flow": null,
            "width": null,
            "min_width": null,
            "border": null,
            "align_items": null,
            "bottom": null,
            "_model_module": "@jupyter-widgets/base",
            "top": null,
            "grid_column": null,
            "overflow_y": null,
            "overflow_x": null,
            "grid_auto_flow": null,
            "grid_area": null,
            "grid_template_columns": null,
            "flex": null,
            "_model_name": "LayoutModel",
            "justify_items": null,
            "grid_row": null,
            "max_height": null,
            "align_content": null,
            "visibility": null,
            "align_self": null,
            "height": null,
            "min_height": null,
            "padding": null,
            "grid_auto_rows": null,
            "grid_gap": null,
            "max_width": null,
            "order": null,
            "_view_module_version": "1.2.0",
            "grid_template_areas": null,
            "object_position": null,
            "object_fit": null,
            "grid_auto_columns": null,
            "margin": null,
            "display": null,
            "left": null
          }
        }
      }
    }
  },
  "cells": [
    {
      "cell_type": "markdown",
      "metadata": {
        "id": "view-in-github",
        "colab_type": "text"
      },
      "source": [
        "<a href=\"https://colab.research.google.com/github/vbayarri/SpainAI_2020_reto_NLP/blob/main/1.Jupyter/AbstractiveSummarization.ipynb\" target=\"_parent\"><img src=\"https://colab.research.google.com/assets/colab-badge.svg\" alt=\"Open In Colab\"/></a>"
      ]
    },
    {
      "cell_type": "markdown",
      "metadata": {
        "id": "6rJG87dHl1VP"
      },
      "source": [
        "https://www.thepythoncode.com/article/text-summarization-using-huggingface-transformers-python\r\n"
      ]
    },
    {
      "cell_type": "markdown",
      "metadata": {
        "id": "M35-9ac2mtqn"
      },
      "source": [
        "Ejecutar para instalar las librerias necesarias"
      ]
    },
    {
      "cell_type": "code",
      "metadata": {
        "colab": {
          "base_uri": "https://localhost:8080/"
        },
        "id": "KbFyZy-Kl9Zf",
        "outputId": "ad3e3098-9b5c-4a73-e65f-3b3b67067d0a"
      },
      "source": [
        "!pip3 install transformers torch"
      ],
      "execution_count": 62,
      "outputs": [
        {
          "output_type": "stream",
          "text": [
            "Requirement already satisfied: transformers in /usr/local/lib/python3.6/dist-packages (4.2.2)\n",
            "Requirement already satisfied: torch in /usr/local/lib/python3.6/dist-packages (1.7.0+cu101)\n",
            "Requirement already satisfied: regex!=2019.12.17 in /usr/local/lib/python3.6/dist-packages (from transformers) (2019.12.20)\n",
            "Requirement already satisfied: tokenizers==0.9.4 in /usr/local/lib/python3.6/dist-packages (from transformers) (0.9.4)\n",
            "Requirement already satisfied: dataclasses; python_version < \"3.7\" in /usr/local/lib/python3.6/dist-packages (from transformers) (0.8)\n",
            "Requirement already satisfied: importlib-metadata; python_version < \"3.8\" in /usr/local/lib/python3.6/dist-packages (from transformers) (3.3.0)\n",
            "Requirement already satisfied: packaging in /usr/local/lib/python3.6/dist-packages (from transformers) (20.8)\n",
            "Requirement already satisfied: tqdm>=4.27 in /usr/local/lib/python3.6/dist-packages (from transformers) (4.41.1)\n",
            "Requirement already satisfied: filelock in /usr/local/lib/python3.6/dist-packages (from transformers) (3.0.12)\n",
            "Requirement already satisfied: numpy in /usr/local/lib/python3.6/dist-packages (from transformers) (1.19.5)\n",
            "Requirement already satisfied: sacremoses in /usr/local/lib/python3.6/dist-packages (from transformers) (0.0.43)\n",
            "Requirement already satisfied: requests in /usr/local/lib/python3.6/dist-packages (from transformers) (2.23.0)\n",
            "Requirement already satisfied: typing-extensions in /usr/local/lib/python3.6/dist-packages (from torch) (3.7.4.3)\n",
            "Requirement already satisfied: future in /usr/local/lib/python3.6/dist-packages (from torch) (0.16.0)\n",
            "Requirement already satisfied: zipp>=0.5 in /usr/local/lib/python3.6/dist-packages (from importlib-metadata; python_version < \"3.8\"->transformers) (3.4.0)\n",
            "Requirement already satisfied: pyparsing>=2.0.2 in /usr/local/lib/python3.6/dist-packages (from packaging->transformers) (2.4.7)\n",
            "Requirement already satisfied: joblib in /usr/local/lib/python3.6/dist-packages (from sacremoses->transformers) (1.0.0)\n",
            "Requirement already satisfied: click in /usr/local/lib/python3.6/dist-packages (from sacremoses->transformers) (7.1.2)\n",
            "Requirement already satisfied: six in /usr/local/lib/python3.6/dist-packages (from sacremoses->transformers) (1.15.0)\n",
            "Requirement already satisfied: certifi>=2017.4.17 in /usr/local/lib/python3.6/dist-packages (from requests->transformers) (2020.12.5)\n",
            "Requirement already satisfied: urllib3!=1.25.0,!=1.25.1,<1.26,>=1.21.1 in /usr/local/lib/python3.6/dist-packages (from requests->transformers) (1.24.3)\n",
            "Requirement already satisfied: idna<3,>=2.5 in /usr/local/lib/python3.6/dist-packages (from requests->transformers) (2.10)\n",
            "Requirement already satisfied: chardet<4,>=3.0.2 in /usr/local/lib/python3.6/dist-packages (from requests->transformers) (3.0.4)\n"
          ],
          "name": "stdout"
        }
      ]
    },
    {
      "cell_type": "markdown",
      "metadata": {
        "id": "WwVHvlEomXx6"
      },
      "source": [
        "## Importar datos"
      ]
    },
    {
      "cell_type": "code",
      "metadata": {
        "colab": {
          "base_uri": "https://localhost:8080/",
          "height": 262,
          "referenced_widgets": [
            "c11f693378c147a8bdf09eb88d024df2",
            "56fd24e728aa413b80675c8b238069b0",
            "9a27c80d95d74f5c9ee652023fb459ab",
            "7ddce65ae13e4ad09a8233f2ac76acde",
            "8c5c93d7f96f46bd84913d8f67c0eb0c",
            "870fc9764b6d4b3d927f38be37fa256b",
            "c6611e594876414eab376a3541c16eae",
            "f33aa35694a14960af3d3aeeb3265d1c",
            "81d7c12d3e864ef6861d5264ee3f49f0",
            "85103265cf34413495cdfc9c039002a4",
            "f22f683845044cfe87143ce79dd586f7",
            "c86ab1cbd8e9485ea3e2bbc94b233618",
            "b192be725b7148c9b4626cc5a1a3915f",
            "68c3baeecc2c438f9be6fa7c46cfb58d",
            "7a4f5ab928064f5fba70a4c320f0571b",
            "82f9b4cce63c42c79e745cefb83a4550",
            "a553b89dcd1e41ddafa7f4b4c5d75a26",
            "dc43e64a53d840d087a4b9a3401fa2d9",
            "774f090056664a61a773fcd117ac1775",
            "c8d1394f29e34eeea460c6035a3a0d8a",
            "b36351f8d8f4491db114d1b4056ea316",
            "f04340716cd8446aa186da6844145270",
            "b524deaa038b470cbae2e6b5dcd02ff4",
            "069d9df17dee4e8aa62fdd67543a5832",
            "971c9fe9fa184d938f0360b4938e8362",
            "75877e34502748a88977147640cde5f6",
            "cefb2df1541b4f15b67efa3bc44cf716",
            "8d08c3a815024beaadd597528eb2ea28",
            "325c08fdc0b74a80997b8377be86ec19",
            "8e91cb4488ac499fa880c18d772a4f6d",
            "496d6d98ace8462c857928ea5997001c",
            "5c35952574de454e9f2a2071a8f390d9",
            "5b47859b6d6345588d18a82a389eaf42",
            "89134356bb3b4268b1126d049d756270",
            "feb9ad9fcc2546a89589f8192def25b0",
            "a0514a8e8d05424c84655746de9f7be6",
            "e8b77078b37d412d8e039add2d65570f",
            "7366e4f3601048fb88b3f07ef1a4580b",
            "c1eb09d77f7b4d13832288d36e8b5775",
            "8e475f829feb47a58723b324caa25d56"
          ]
        },
        "id": "r_7ZCE32pYv7",
        "outputId": "ffcc0884-b524-4923-8161-af58efc5d902"
      },
      "source": [
        "import io\r\n",
        "import pandas as pd\r\n",
        "import requests\r\n",
        "from transformers import pipeline\r\n",
        "\r\n",
        "# Utilizar pipeline de resumen de textos\r\n",
        "summarization = pipeline(\"summarization\")"
      ],
      "execution_count": 2,
      "outputs": [
        {
          "output_type": "display_data",
          "data": {
            "application/vnd.jupyter.widget-view+json": {
              "model_id": "c11f693378c147a8bdf09eb88d024df2",
              "version_minor": 0,
              "version_major": 2
            },
            "text/plain": [
              "HBox(children=(FloatProgress(value=0.0, description='Downloading', max=1621.0, style=ProgressStyle(description…"
            ]
          },
          "metadata": {
            "tags": []
          }
        },
        {
          "output_type": "stream",
          "text": [
            "\n"
          ],
          "name": "stdout"
        },
        {
          "output_type": "display_data",
          "data": {
            "application/vnd.jupyter.widget-view+json": {
              "model_id": "81d7c12d3e864ef6861d5264ee3f49f0",
              "version_minor": 0,
              "version_major": 2
            },
            "text/plain": [
              "HBox(children=(FloatProgress(value=0.0, description='Downloading', max=1222317369.0, style=ProgressStyle(descr…"
            ]
          },
          "metadata": {
            "tags": []
          }
        },
        {
          "output_type": "stream",
          "text": [
            "\n"
          ],
          "name": "stdout"
        },
        {
          "output_type": "display_data",
          "data": {
            "application/vnd.jupyter.widget-view+json": {
              "model_id": "a553b89dcd1e41ddafa7f4b4c5d75a26",
              "version_minor": 0,
              "version_major": 2
            },
            "text/plain": [
              "HBox(children=(FloatProgress(value=0.0, description='Downloading', max=898822.0, style=ProgressStyle(descripti…"
            ]
          },
          "metadata": {
            "tags": []
          }
        },
        {
          "output_type": "stream",
          "text": [
            "\n"
          ],
          "name": "stdout"
        },
        {
          "output_type": "display_data",
          "data": {
            "application/vnd.jupyter.widget-view+json": {
              "model_id": "971c9fe9fa184d938f0360b4938e8362",
              "version_minor": 0,
              "version_major": 2
            },
            "text/plain": [
              "HBox(children=(FloatProgress(value=0.0, description='Downloading', max=456318.0, style=ProgressStyle(descripti…"
            ]
          },
          "metadata": {
            "tags": []
          }
        },
        {
          "output_type": "stream",
          "text": [
            "\n"
          ],
          "name": "stdout"
        },
        {
          "output_type": "display_data",
          "data": {
            "application/vnd.jupyter.widget-view+json": {
              "model_id": "5b47859b6d6345588d18a82a389eaf42",
              "version_minor": 0,
              "version_major": 2
            },
            "text/plain": [
              "HBox(children=(FloatProgress(value=0.0, description='Downloading', max=26.0, style=ProgressStyle(description_w…"
            ]
          },
          "metadata": {
            "tags": []
          }
        },
        {
          "output_type": "stream",
          "text": [
            "\n"
          ],
          "name": "stdout"
        }
      ]
    },
    {
      "cell_type": "code",
      "metadata": {
        "id": "300R7EMkmeTH"
      },
      "source": [
        "train = \"https://raw.githubusercontent.com/vbayarri/SpainAI_2020_reto_NLP/main/0.Dataset/train.csv\"\r\n",
        "req = requests.get(train)\r\n",
        "traindata = req.text\r\n",
        "trainpd = pd.read_csv(io.StringIO(traindata), sep=\",\", dtype=str)\r\n",
        "\r\n",
        "test = \"https://raw.githubusercontent.com/vbayarri/SpainAI_2020_reto_NLP/main/0.Dataset/test_descriptions.csv\"\r\n",
        "req = requests.get(test)\r\n",
        "testdata = req.text\r\n",
        "testpd = pd.read_csv(io.StringIO(testdata), sep=\",\", dtype=str)"
      ],
      "execution_count": 3,
      "outputs": []
    },
    {
      "cell_type": "markdown",
      "metadata": {
        "id": "fOMLnWTsmsOG"
      },
      "source": [
        "Estructura de los datos:"
      ]
    },
    {
      "cell_type": "code",
      "metadata": {
        "colab": {
          "base_uri": "https://localhost:8080/",
          "height": 197
        },
        "id": "dG5YZXdFm80g",
        "outputId": "a091c2aa-bf16-44f7-db68-a96c08699420"
      },
      "source": [
        "trainpd.describe()"
      ],
      "execution_count": 67,
      "outputs": [
        {
          "output_type": "error",
          "ename": "AttributeError",
          "evalue": "ignored",
          "traceback": [
            "\u001b[0;31m---------------------------------------------------------------------------\u001b[0m",
            "\u001b[0;31mAttributeError\u001b[0m                            Traceback (most recent call last)",
            "\u001b[0;32m<ipython-input-67-011f6ee661f5>\u001b[0m in \u001b[0;36m<module>\u001b[0;34m()\u001b[0m\n\u001b[1;32m      2\u001b[0m \u001b[0mtrainpd\u001b[0m\u001b[0;34m.\u001b[0m\u001b[0mhead\u001b[0m\u001b[0;34m(\u001b[0m\u001b[0;36m10\u001b[0m\u001b[0;34m)\u001b[0m\u001b[0;34m\u001b[0m\u001b[0;34m\u001b[0m\u001b[0m\n\u001b[1;32m      3\u001b[0m \u001b[0mtrainpd\u001b[0m\u001b[0;34m[\u001b[0m\u001b[0;34m'description'\u001b[0m\u001b[0;34m]\u001b[0m\u001b[0;34m.\u001b[0m\u001b[0mshape\u001b[0m\u001b[0;34m\u001b[0m\u001b[0;34m\u001b[0m\u001b[0m\n\u001b[0;32m----> 4\u001b[0;31m \u001b[0mprint\u001b[0m\u001b[0;34m(\u001b[0m\u001b[0mtrainpd\u001b[0m\u001b[0;34m[\u001b[0m\u001b[0;34m'description'\u001b[0m\u001b[0;34m]\u001b[0m\u001b[0;34m[\u001b[0m\u001b[0;36m0\u001b[0m\u001b[0;34m]\u001b[0m\u001b[0;34m.\u001b[0m\u001b[0mkeys\u001b[0m\u001b[0;34m(\u001b[0m\u001b[0;34m)\u001b[0m\u001b[0;34m)\u001b[0m\u001b[0;34m\u001b[0m\u001b[0;34m\u001b[0m\u001b[0m\n\u001b[0m",
            "\u001b[0;31mAttributeError\u001b[0m: 'str' object has no attribute 'keys'"
          ]
        }
      ]
    },
    {
      "cell_type": "code",
      "metadata": {
        "colab": {
          "base_uri": "https://localhost:8080/",
          "height": 359
        },
        "id": "6QjlG0Q0nGvy",
        "outputId": "4c8adca7-e9df-4f1c-fe4b-efd66c40edd3"
      },
      "source": [
        "trainpd.head(10)"
      ],
      "execution_count": 70,
      "outputs": [
        {
          "output_type": "execute_result",
          "data": {
            "text/html": [
              "<div>\n",
              "<style scoped>\n",
              "    .dataframe tbody tr th:only-of-type {\n",
              "        vertical-align: middle;\n",
              "    }\n",
              "\n",
              "    .dataframe tbody tr th {\n",
              "        vertical-align: top;\n",
              "    }\n",
              "\n",
              "    .dataframe thead th {\n",
              "        text-align: right;\n",
              "    }\n",
              "</style>\n",
              "<table border=\"1\" class=\"dataframe\">\n",
              "  <thead>\n",
              "    <tr style=\"text-align: right;\">\n",
              "      <th></th>\n",
              "      <th>name</th>\n",
              "      <th>description</th>\n",
              "    </tr>\n",
              "  </thead>\n",
              "  <tbody>\n",
              "    <tr>\n",
              "      <th>0</th>\n",
              "      <td>CROPPED JACKET TRF</td>\n",
              "      <td>Jacket made of a technical fabric with texture...</td>\n",
              "    </tr>\n",
              "    <tr>\n",
              "      <th>1</th>\n",
              "      <td>OVERSIZED SHIRT WITH POCKET TRF</td>\n",
              "      <td>Oversized long sleeve shirt with a round colla...</td>\n",
              "    </tr>\n",
              "    <tr>\n",
              "      <th>2</th>\n",
              "      <td>TECHNICAL TROUSERS TRF</td>\n",
              "      <td>High-waist trousers with a matching elastic wa...</td>\n",
              "    </tr>\n",
              "    <tr>\n",
              "      <th>3</th>\n",
              "      <td>SHIRT DRESS</td>\n",
              "      <td>Collared dress featuring sleeves falling below...</td>\n",
              "    </tr>\n",
              "    <tr>\n",
              "      <th>4</th>\n",
              "      <td>PUFF SLEEVE DRESS WITH PLEATS TRF</td>\n",
              "      <td>Loose-fitting midi dress with a round neckline...</td>\n",
              "    </tr>\n",
              "    <tr>\n",
              "      <th>5</th>\n",
              "      <td>FLORAL PRINT DRESS TRF</td>\n",
              "      <td>Midi dress with a round neckline and short sle...</td>\n",
              "    </tr>\n",
              "    <tr>\n",
              "      <th>6</th>\n",
              "      <td>PRINTED DRESS TRF</td>\n",
              "      <td>Midi dress with a shirt collar and sleeves fal...</td>\n",
              "    </tr>\n",
              "    <tr>\n",
              "      <th>7</th>\n",
              "      <td>PRINTED MIDI DRESS TRF</td>\n",
              "      <td>Dress with a round neck and long sleeves. Feat...</td>\n",
              "    </tr>\n",
              "    <tr>\n",
              "      <th>8</th>\n",
              "      <td>LOOSE-FITTING TEXTURED DRESS TRF</td>\n",
              "      <td>Short dress featuring a round neckline, long w...</td>\n",
              "    </tr>\n",
              "    <tr>\n",
              "      <th>9</th>\n",
              "      <td>RUFFLED PRINTED DRESS TRF</td>\n",
              "      <td>Short dress featuring a round neckline and lon...</td>\n",
              "    </tr>\n",
              "  </tbody>\n",
              "</table>\n",
              "</div>"
            ],
            "text/plain": [
              "                                name                                        description\n",
              "0                 CROPPED JACKET TRF  Jacket made of a technical fabric with texture...\n",
              "1    OVERSIZED SHIRT WITH POCKET TRF  Oversized long sleeve shirt with a round colla...\n",
              "2             TECHNICAL TROUSERS TRF  High-waist trousers with a matching elastic wa...\n",
              "3                        SHIRT DRESS  Collared dress featuring sleeves falling below...\n",
              "4  PUFF SLEEVE DRESS WITH PLEATS TRF  Loose-fitting midi dress with a round neckline...\n",
              "5             FLORAL PRINT DRESS TRF  Midi dress with a round neckline and short sle...\n",
              "6                  PRINTED DRESS TRF  Midi dress with a shirt collar and sleeves fal...\n",
              "7             PRINTED MIDI DRESS TRF  Dress with a round neck and long sleeves. Feat...\n",
              "8   LOOSE-FITTING TEXTURED DRESS TRF  Short dress featuring a round neckline, long w...\n",
              "9          RUFFLED PRINTED DRESS TRF  Short dress featuring a round neckline and lon..."
            ]
          },
          "metadata": {
            "tags": []
          },
          "execution_count": 70
        }
      ]
    },
    {
      "cell_type": "code",
      "metadata": {
        "id": "FJoeGgmfoFvy"
      },
      "source": [
        "trainpd.description.map(lambda x: len(x)).max()"
      ],
      "execution_count": null,
      "outputs": []
    },
    {
      "cell_type": "code",
      "metadata": {
        "colab": {
          "base_uri": "https://localhost:8080/",
          "height": 265
        },
        "id": "LK8m44rhDhuJ",
        "outputId": "fdd14898-05c6-4d63-f814-74f32cb9f578"
      },
      "source": [
        "## Estimate Average Length of Text and Summary\r\n",
        "name_len = []\r\n",
        "description_len=[]\r\n",
        "trainpd['name'].map(lambda x : name_len.append(len(x.split())))\r\n",
        "trainpd['description'].map(lambda x : description_len.append(len(x)))\r\n",
        "    \r\n",
        "import matplotlib.pyplot as plt\r\n",
        "%matplotlib inline\r\n",
        "plt.hist(name_len)\r\n",
        "plt.show()"
      ],
      "execution_count": 76,
      "outputs": [
        {
          "output_type": "display_data",
          "data": {
            "image/png": "[encoded data removed]",
            "text/plain": [
              "<Figure size 432x288 with 1 Axes>"
            ]
          },
          "metadata": {
            "tags": [],
            "needs_background": "light"
          }
        }
      ]
    },
    {
      "cell_type": "code",
      "metadata": {
        "colab": {
          "base_uri": "https://localhost:8080/",
          "height": 265
        },
        "id": "AsWBfDVZFftO",
        "outputId": "c12672b4-1ac1-4ea9-f24d-283aa864dfe5"
      },
      "source": [
        "%matplotlib inline\r\n",
        "plt.hist(name_len)\r\n",
        "plt.show()"
      ],
      "execution_count": 77,
      "outputs": [
        {
          "output_type": "display_data",
          "data": {
            "image/png": "[encoded data removed]",
            "text/plain": [
              "<Figure size 432x288 with 1 Axes>"
            ]
          },
          "metadata": {
            "tags": [],
            "needs_background": "light"
          }
        }
      ]
    },
    {
      "cell_type": "markdown",
      "metadata": {
        "id": "XLQdZeypnQuz"
      },
      "source": [
        "Utilización de la pipeline de sumarización"
      ]
    },
    {
      "cell_type": "code",
      "metadata": {
        "colab": {
          "base_uri": "https://localhost:8080/"
        },
        "id": "6aIU9eJinYOD",
        "outputId": "959b6752-d20d-4cb0-d656-d346176f0984"
      },
      "source": [
        "# using pipeline API for summarization task\r\n",
        "original_text=trainpd.iloc[0,1]\r\n",
        "\r\n",
        "summary_text = summarization(original_text, min_length=2, max_length=5)\r\n",
        "\r\n",
        "print(\"Original:\", original_text)\r\n",
        "print(\"Summary:\", summary_text[0]['summary_text'])"
      ],
      "execution_count": 7,
      "outputs": [
        {
          "output_type": "stream",
          "text": [
            "Original: Jacket made of a technical fabric with texture. High collar and long sleeves. Front pockets. Ribbed trims. Zip-up front.\n",
            "Summary:  Jacket made\n"
          ],
          "name": "stdout"
        }
      ]
    },
    {
      "cell_type": "markdown",
      "metadata": {
        "id": "-Iai2UfE0v3x"
      },
      "source": [
        "Using T5 Model\r\n"
      ]
    },
    {
      "cell_type": "code",
      "metadata": {
        "colab": {
          "base_uri": "https://localhost:8080/"
        },
        "id": "W3JaV_Xb1e_-",
        "outputId": "560ee32d-3689-4462-cefa-5f335e6e44ed"
      },
      "source": [
        "!pip3 install sentencepiece"
      ],
      "execution_count": 8,
      "outputs": [
        {
          "output_type": "stream",
          "text": [
            "Collecting sentencepiece\n",
            "\u001b[?25l  Downloading https://files.pythonhosted.org/packages/14/67/e42bd1181472c95c8cda79305df848264f2a7f62740995a46945d9797b67/sentencepiece-0.1.95-cp36-cp36m-manylinux2014_x86_64.whl (1.2MB)\n",
            "\r\u001b[K     |▎                               | 10kB 21.1MB/s eta 0:00:01\r\u001b[K     |▌                               | 20kB 27.7MB/s eta 0:00:01\r\u001b[K     |▉                               | 30kB 24.9MB/s eta 0:00:01\r\u001b[K     |█                               | 40kB 28.7MB/s eta 0:00:01\r\u001b[K     |█▍                              | 51kB 25.6MB/s eta 0:00:01\r\u001b[K     |█▋                              | 61kB 28.4MB/s eta 0:00:01\r\u001b[K     |██                              | 71kB 20.5MB/s eta 0:00:01\r\u001b[K     |██▏                             | 81kB 21.6MB/s eta 0:00:01\r\u001b[K     |██▌                             | 92kB 20.1MB/s eta 0:00:01\r\u001b[K     |██▊                             | 102kB 20.2MB/s eta 0:00:01\r\u001b[K     |███                             | 112kB 20.2MB/s eta 0:00:01\r\u001b[K     |███▎                            | 122kB 20.2MB/s eta 0:00:01\r\u001b[K     |███▌                            | 133kB 20.2MB/s eta 0:00:01\r\u001b[K     |███▉                            | 143kB 20.2MB/s eta 0:00:01\r\u001b[K     |████                            | 153kB 20.2MB/s eta 0:00:01\r\u001b[K     |████▍                           | 163kB 20.2MB/s eta 0:00:01\r\u001b[K     |████▋                           | 174kB 20.2MB/s eta 0:00:01\r\u001b[K     |█████                           | 184kB 20.2MB/s eta 0:00:01\r\u001b[K     |█████▏                          | 194kB 20.2MB/s eta 0:00:01\r\u001b[K     |█████▌                          | 204kB 20.2MB/s eta 0:00:01\r\u001b[K     |█████▊                          | 215kB 20.2MB/s eta 0:00:01\r\u001b[K     |██████                          | 225kB 20.2MB/s eta 0:00:01\r\u001b[K     |██████▎                         | 235kB 20.2MB/s eta 0:00:01\r\u001b[K     |██████▌                         | 245kB 20.2MB/s eta 0:00:01\r\u001b[K     |██████▉                         | 256kB 20.2MB/s eta 0:00:01\r\u001b[K     |███████                         | 266kB 20.2MB/s eta 0:00:01\r\u001b[K     |███████▍                        | 276kB 20.2MB/s eta 0:00:01\r\u001b[K     |███████▋                        | 286kB 20.2MB/s eta 0:00:01\r\u001b[K     |████████                        | 296kB 20.2MB/s eta 0:00:01\r\u001b[K     |████████▏                       | 307kB 20.2MB/s eta 0:00:01\r\u001b[K     |████████▍                       | 317kB 20.2MB/s eta 0:00:01\r\u001b[K     |████████▊                       | 327kB 20.2MB/s eta 0:00:01\r\u001b[K     |█████████                       | 337kB 20.2MB/s eta 0:00:01\r\u001b[K     |█████████▎                      | 348kB 20.2MB/s eta 0:00:01\r\u001b[K     |█████████▌                      | 358kB 20.2MB/s eta 0:00:01\r\u001b[K     |█████████▉                      | 368kB 20.2MB/s eta 0:00:01\r\u001b[K     |██████████                      | 378kB 20.2MB/s eta 0:00:01\r\u001b[K     |██████████▍                     | 389kB 20.2MB/s eta 0:00:01\r\u001b[K     |██████████▋                     | 399kB 20.2MB/s eta 0:00:01\r\u001b[K     |███████████                     | 409kB 20.2MB/s eta 0:00:01\r\u001b[K     |███████████▏                    | 419kB 20.2MB/s eta 0:00:01\r\u001b[K     |███████████▍                    | 430kB 20.2MB/s eta 0:00:01\r\u001b[K     |███████████▊                    | 440kB 20.2MB/s eta 0:00:01\r\u001b[K     |████████████                    | 450kB 20.2MB/s eta 0:00:01\r\u001b[K     |████████████▎                   | 460kB 20.2MB/s eta 0:00:01\r\u001b[K     |████████████▌                   | 471kB 20.2MB/s eta 0:00:01\r\u001b[K     |████████████▉                   | 481kB 20.2MB/s eta 0:00:01\r\u001b[K     |█████████████                   | 491kB 20.2MB/s eta 0:00:01\r\u001b[K     |█████████████▍                  | 501kB 20.2MB/s eta 0:00:01\r\u001b[K     |█████████████▋                  | 512kB 20.2MB/s eta 0:00:01\r\u001b[K     |█████████████▉                  | 522kB 20.2MB/s eta 0:00:01\r\u001b[K     |██████████████▏                 | 532kB 20.2MB/s eta 0:00:01\r\u001b[K     |██████████████▍                 | 542kB 20.2MB/s eta 0:00:01\r\u001b[K     |██████████████▊                 | 552kB 20.2MB/s eta 0:00:01\r\u001b[K     |███████████████                 | 563kB 20.2MB/s eta 0:00:01\r\u001b[K     |███████████████▎                | 573kB 20.2MB/s eta 0:00:01\r\u001b[K     |███████████████▌                | 583kB 20.2MB/s eta 0:00:01\r\u001b[K     |███████████████▉                | 593kB 20.2MB/s eta 0:00:01\r\u001b[K     |████████████████                | 604kB 20.2MB/s eta 0:00:01\r\u001b[K     |████████████████▍               | 614kB 20.2MB/s eta 0:00:01\r\u001b[K     |████████████████▋               | 624kB 20.2MB/s eta 0:00:01\r\u001b[K     |████████████████▉               | 634kB 20.2MB/s eta 0:00:01\r\u001b[K     |█████████████████▏              | 645kB 20.2MB/s eta 0:00:01\r\u001b[K     |█████████████████▍              | 655kB 20.2MB/s eta 0:00:01\r\u001b[K     |█████████████████▊              | 665kB 20.2MB/s eta 0:00:01\r\u001b[K     |██████████████████              | 675kB 20.2MB/s eta 0:00:01\r\u001b[K     |██████████████████▎             | 686kB 20.2MB/s eta 0:00:01\r\u001b[K     |██████████████████▌             | 696kB 20.2MB/s eta 0:00:01\r\u001b[K     |██████████████████▉             | 706kB 20.2MB/s eta 0:00:01\r\u001b[K     |███████████████████             | 716kB 20.2MB/s eta 0:00:01\r\u001b[K     |███████████████████▎            | 727kB 20.2MB/s eta 0:00:01\r\u001b[K     |███████████████████▋            | 737kB 20.2MB/s eta 0:00:01\r\u001b[K     |███████████████████▉            | 747kB 20.2MB/s eta 0:00:01\r\u001b[K     |████████████████████▏           | 757kB 20.2MB/s eta 0:00:01\r\u001b[K     |████████████████████▍           | 768kB 20.2MB/s eta 0:00:01\r\u001b[K     |████████████████████▊           | 778kB 20.2MB/s eta 0:00:01\r\u001b[K     |█████████████████████           | 788kB 20.2MB/s eta 0:00:01\r\u001b[K     |█████████████████████▎          | 798kB 20.2MB/s eta 0:00:01\r\u001b[K     |█████████████████████▌          | 808kB 20.2MB/s eta 0:00:01\r\u001b[K     |█████████████████████▉          | 819kB 20.2MB/s eta 0:00:01\r\u001b[K     |██████████████████████          | 829kB 20.2MB/s eta 0:00:01\r\u001b[K     |██████████████████████▎         | 839kB 20.2MB/s eta 0:00:01\r\u001b[K     |██████████████████████▋         | 849kB 20.2MB/s eta 0:00:01\r\u001b[K     |██████████████████████▉         | 860kB 20.2MB/s eta 0:00:01\r\u001b[K     |███████████████████████▏        | 870kB 20.2MB/s eta 0:00:01\r\u001b[K     |███████████████████████▍        | 880kB 20.2MB/s eta 0:00:01\r\u001b[K     |███████████████████████▊        | 890kB 20.2MB/s eta 0:00:01\r\u001b[K     |████████████████████████        | 901kB 20.2MB/s eta 0:00:01\r\u001b[K     |████████████████████████▎       | 911kB 20.2MB/s eta 0:00:01\r\u001b[K     |████████████████████████▌       | 921kB 20.2MB/s eta 0:00:01\r\u001b[K     |████████████████████████▊       | 931kB 20.2MB/s eta 0:00:01\r\u001b[K     |█████████████████████████       | 942kB 20.2MB/s eta 0:00:01\r\u001b[K     |█████████████████████████▎      | 952kB 20.2MB/s eta 0:00:01\r\u001b[K     |█████████████████████████▋      | 962kB 20.2MB/s eta 0:00:01\r\u001b[K     |█████████████████████████▉      | 972kB 20.2MB/s eta 0:00:01\r\u001b[K     |██████████████████████████▏     | 983kB 20.2MB/s eta 0:00:01\r\u001b[K     |██████████████████████████▍     | 993kB 20.2MB/s eta 0:00:01\r\u001b[K     |██████████████████████████▊     | 1.0MB 20.2MB/s eta 0:00:01\r\u001b[K     |███████████████████████████     | 1.0MB 20.2MB/s eta 0:00:01\r\u001b[K     |███████████████████████████▎    | 1.0MB 20.2MB/s eta 0:00:01\r\u001b[K     |███████████████████████████▌    | 1.0MB 20.2MB/s eta 0:00:01\r\u001b[K     |███████████████████████████▊    | 1.0MB 20.2MB/s eta 0:00:01\r\u001b[K     |████████████████████████████    | 1.1MB 20.2MB/s eta 0:00:01\r\u001b[K     |████████████████████████████▎   | 1.1MB 20.2MB/s eta 0:00:01\r\u001b[K     |████████████████████████████▋   | 1.1MB 20.2MB/s eta 0:00:01\r\u001b[K     |████████████████████████████▉   | 1.1MB 20.2MB/s eta 0:00:01\r\u001b[K     |█████████████████████████████▏  | 1.1MB 20.2MB/s eta 0:00:01\r\u001b[K     |█████████████████████████████▍  | 1.1MB 20.2MB/s eta 0:00:01\r\u001b[K     |█████████████████████████████▊  | 1.1MB 20.2MB/s eta 0:00:01\r\u001b[K     |██████████████████████████████  | 1.1MB 20.2MB/s eta 0:00:01\r\u001b[K     |██████████████████████████████▏ | 1.1MB 20.2MB/s eta 0:00:01\r\u001b[K     |██████████████████████████████▌ | 1.1MB 20.2MB/s eta 0:00:01\r\u001b[K     |██████████████████████████████▊ | 1.2MB 20.2MB/s eta 0:00:01\r\u001b[K     |███████████████████████████████ | 1.2MB 20.2MB/s eta 0:00:01\r\u001b[K     |███████████████████████████████▎| 1.2MB 20.2MB/s eta 0:00:01\r\u001b[K     |███████████████████████████████▋| 1.2MB 20.2MB/s eta 0:00:01\r\u001b[K     |███████████████████████████████▉| 1.2MB 20.2MB/s eta 0:00:01\r\u001b[K     |████████████████████████████████| 1.2MB 20.2MB/s \n",
            "\u001b[?25hInstalling collected packages: sentencepiece\n",
            "Successfully installed sentencepiece-0.1.95\n"
          ],
          "name": "stdout"
        }
      ]
    },
    {
      "cell_type": "code",
      "metadata": {
        "colab": {
          "base_uri": "https://localhost:8080/",
          "height": 231
        },
        "id": "K8307-ma0xcR",
        "outputId": "1cefba4e-6ecb-43d2-f247-8f4d5c2ae524"
      },
      "source": [
        "from transformers import T5ForConditionalGeneration, T5Tokenizer\r\n",
        "\r\n",
        "# Models available = 't5-small', 't5-base', 't5-large', 't5-3b', 't5-11b'\r\n",
        "\r\n",
        "# initialize the model architecture and weights\r\n",
        "model = T5ForConditionalGeneration.from_pretrained(\"t5-small\")\r\n",
        "\r\n",
        "# initialize the model tokenizer\r\n",
        "tokenizer = T5Tokenizer.from_pretrained(\"t5-small\")\r\n",
        "\r\n",
        "#input_ids = tokenizer.encode(original_text, return_tensors=\"pt\")  # Batch size 1\r\n",
        "\r\n",
        "article = \"\"\"\r\n",
        "Justin Timberlake and Jessica Biel, welcome to parenthood. \r\n",
        "The celebrity couple announced the arrival of their son, Silas Randall Timberlake, in statements to People. \r\n",
        "\"Silas was the middle name of Timberlake's maternal grandfather Bill Bomar, who died in 2012, while Randall is the musician's own middle name, as well as his father's first,\" People reports. \r\n",
        "The couple announced the pregnancy in January, with an Instagram post. It is the first baby for both.\r\n",
        "\"\"\"\r\n",
        "\r\n",
        "# encode the text into tensor of integers using the appropriate tokenizer\r\n",
        "inputs = tokenizer.encode(\"summarize: \" + article, return_tensors=\"pt\", max_length=512, truncation=True)\r\n",
        "\r\n",
        "# generate the summarization output\r\n",
        "outputs = model.generate(\r\n",
        "    inputs, \r\n",
        "    max_length=150, \r\n",
        "    min_length=40, \r\n",
        "    length_penalty=2.0, \r\n",
        "    num_beams=4, \r\n",
        "    early_stopping=True)\r\n",
        "# just for debugging\r\n",
        "print(outputs)\r\n",
        "print(tokenizer.decode(outputs[0]))"
      ],
      "execution_count": 61,
      "outputs": [
        {
          "output_type": "error",
          "ename": "AttributeError",
          "evalue": "ignored",
          "traceback": [
            "\u001b[0;31m---------------------------------------------------------------------------\u001b[0m",
            "\u001b[0;31mAttributeError\u001b[0m                            Traceback (most recent call last)",
            "\u001b[0;32m<ipython-input-61-85a7f3a62f0e>\u001b[0m in \u001b[0;36m<module>\u001b[0;34m()\u001b[0m\n\u001b[1;32m     20\u001b[0m \u001b[0;34m\u001b[0m\u001b[0m\n\u001b[1;32m     21\u001b[0m \u001b[0;31m# encode the text into tensor of integers using the appropriate tokenizer\u001b[0m\u001b[0;34m\u001b[0m\u001b[0;34m\u001b[0m\u001b[0;34m\u001b[0m\u001b[0m\n\u001b[0;32m---> 22\u001b[0;31m \u001b[0minputs\u001b[0m \u001b[0;34m=\u001b[0m \u001b[0mtokenizer\u001b[0m\u001b[0;34m.\u001b[0m\u001b[0mencode\u001b[0m\u001b[0;34m(\u001b[0m\u001b[0;34m\"summarize: \"\u001b[0m \u001b[0;34m+\u001b[0m \u001b[0marticle\u001b[0m\u001b[0;34m,\u001b[0m \u001b[0mreturn_tensors\u001b[0m\u001b[0;34m=\u001b[0m\u001b[0;34m\"pt\"\u001b[0m\u001b[0;34m,\u001b[0m \u001b[0mmax_length\u001b[0m\u001b[0;34m=\u001b[0m\u001b[0;36m512\u001b[0m\u001b[0;34m,\u001b[0m \u001b[0mtruncation\u001b[0m\u001b[0;34m=\u001b[0m\u001b[0;32mTrue\u001b[0m\u001b[0;34m)\u001b[0m\u001b[0;34m\u001b[0m\u001b[0;34m\u001b[0m\u001b[0m\n\u001b[0m\u001b[1;32m     23\u001b[0m \u001b[0;34m\u001b[0m\u001b[0m\n\u001b[1;32m     24\u001b[0m \u001b[0;31m# generate the summarization output\u001b[0m\u001b[0;34m\u001b[0m\u001b[0;34m\u001b[0m\u001b[0;34m\u001b[0m\u001b[0m\n",
            "\u001b[0;31mAttributeError\u001b[0m: 'NoneType' object has no attribute 'encode'"
          ]
        }
      ]
    }
  ]
}