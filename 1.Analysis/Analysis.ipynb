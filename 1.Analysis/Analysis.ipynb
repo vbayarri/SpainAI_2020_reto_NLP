{
  "nbformat": 4,
  "nbformat_minor": 0,
  "metadata": {
    "colab": {
      "name": "Analysis.ipynb",
      "provenance": [],
      "authorship_tag": "ABX9TyOKZ3S+87/+VU/wIAxBndPl",
      "include_colab_link": true
    },
    "kernelspec": {
      "name": "python3",
      "display_name": "Python 3"
    }
  },
  "cells": [
    {
      "cell_type": "markdown",
      "metadata": {
        "id": "view-in-github",
        "colab_type": "text"
      },
      "source": [
        "<a href=\"https://colab.research.google.com/github/vbayarri/SpainAI_2020_reto_NLP/blob/main/1.Analysis/Analysis.ipynb\" target=\"_parent\"><img src=\"https://colab.research.google.com/assets/colab-badge.svg\" alt=\"Open In Colab\"/></a>"
      ]
    },
    {
      "cell_type": "markdown",
      "metadata": {
        "id": "mJCblGemxLWR"
      },
      "source": [
        "# Análisis de train and test data\r\n"
      ]
    },
    {
      "cell_type": "markdown",
      "metadata": {
        "id": "whaAk4o7xzF0"
      },
      "source": [
        "## Importación de librerias"
      ]
    },
    {
      "cell_type": "code",
      "metadata": {
        "id": "-JDqwjLKx-zp"
      },
      "source": [
        "import base64\r\n",
        "import requests\r\n",
        "import io\r\n",
        "import pandas as pd"
      ],
      "execution_count": 1,
      "outputs": []
    },
    {
      "cell_type": "markdown",
      "metadata": {
        "id": "X4u5aad4xfmz"
      },
      "source": [
        "## Importación de ficheros de datos\r\n"
      ]
    },
    {
      "cell_type": "code",
      "metadata": {
        "id": "Ouh62Fz8yIHX"
      },
      "source": [
        "train = \"https://raw.githubusercontent.com/vbayarri/SpainAI_2020_reto_NLP/main/0.Dataset/train.csv\"\r\n",
        "req = requests.get(train)\r\n",
        "traindata = req.text\r\n",
        "trainpd = pd.read_csv(io.StringIO(traindata), sep=\",\")\r\n",
        "\r\n",
        "test = \"https://raw.githubusercontent.com/vbayarri/SpainAI_2020_reto_NLP/main/0.Dataset/test_descriptions.csv\"\r\n",
        "req = requests.get(test)\r\n",
        "testdata = req.text\r\n",
        "testpd = pd.read_csv(io.StringIO(testdata), sep=\",\")"
      ],
      "execution_count": 2,
      "outputs": []
    }
  ]
}