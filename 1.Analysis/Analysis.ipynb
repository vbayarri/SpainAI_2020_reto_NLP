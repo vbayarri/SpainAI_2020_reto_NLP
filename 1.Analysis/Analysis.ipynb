{
  "nbformat": 4,
  "nbformat_minor": 0,
  "metadata": {
    "colab": {
      "name": "Analysis.ipynb",
      "provenance": [],
      "authorship_tag": "ABX9TyOKZ3S+87/+VU/wIAxBndPl"
    },
    "kernelspec": {
      "name": "python3",
      "display_name": "Python 3"
    }
  },
  "cells": [
    {
      "cell_type": "markdown",
      "metadata": {
        "id": "mJCblGemxLWR"
      },
      "source": [
        "# Análisis de train and test data\r\n"
      ]
    },
    {
      "cell_type": "markdown",
      "metadata": {
        "id": "whaAk4o7xzF0"
      },
      "source": [
        "## Importación de librerias"
      ]
    },
    {
      "cell_type": "code",
      "metadata": {
        "id": "-JDqwjLKx-zp"
      },
      "source": [
        "import base64\r\n",
        "import requests\r\n",
        "import io\r\n",
        "import pandas as pd"
      ],
      "execution_count": 15,
      "outputs": []
    },
    {
      "cell_type": "markdown",
      "metadata": {
        "id": "X4u5aad4xfmz"
      },
      "source": [
        "## Importación de ficheros de datos\r\n"
      ]
    },
    {
      "cell_type": "code",
      "metadata": {
        "colab": {
          "base_uri": "https://localhost:8080/",
          "height": 231
        },
        "id": "Ouh62Fz8yIHX",
        "outputId": "e2a7bd36-d06f-4cc4-d0f4-ca1b612596f4"
      },
      "source": [
        "train = \"https://raw.githubusercontent.com/vbayarri/SpainAI_2020_reto_NLP/main/0.Dataset/train.csv\"\r\n",
        "req = requests.get(train)\r\n",
        "traindata = req.text\r\n",
        "trainpd = pd.read_csv(io.StringIO(traindata), sep=\",\")\r\n",
        "\r\n",
        "test = \"https://raw.githubusercontent.com/vbayarri/SpainAI_2020_reto_NLP/main/0.Dataset/test_descriptions.csv\"\r\n",
        "req = requests.get(test)\r\n",
        "testdata = req.text\r\n",
        "testpd = pd.read_csv(io.StringIO(testdata), sep=\",\")"
      ],
      "execution_count": 17,
      "outputs": [
        {
          "output_type": "error",
          "ename": "NameError",
          "evalue": "ignored",
          "traceback": [
            "\u001b[0;31m---------------------------------------------------------------------------\u001b[0m",
            "\u001b[0;31mNameError\u001b[0m                                 Traceback (most recent call last)",
            "\u001b[0;32m<ipython-input-17-eb87dc10642b>\u001b[0m in \u001b[0;36m<module>\u001b[0;34m()\u001b[0m\n\u001b[1;32m      3\u001b[0m \u001b[0mtraindata\u001b[0m \u001b[0;34m=\u001b[0m \u001b[0mreq\u001b[0m\u001b[0;34m.\u001b[0m\u001b[0mtext\u001b[0m\u001b[0;34m\u001b[0m\u001b[0;34m\u001b[0m\u001b[0m\n\u001b[1;32m      4\u001b[0m \u001b[0mtrainpd\u001b[0m \u001b[0;34m=\u001b[0m \u001b[0mpd\u001b[0m\u001b[0;34m.\u001b[0m\u001b[0mread_csv\u001b[0m\u001b[0;34m(\u001b[0m\u001b[0mio\u001b[0m\u001b[0;34m.\u001b[0m\u001b[0mStringIO\u001b[0m\u001b[0;34m(\u001b[0m\u001b[0mtraindata\u001b[0m\u001b[0;34m)\u001b[0m\u001b[0;34m,\u001b[0m \u001b[0msep\u001b[0m\u001b[0;34m=\u001b[0m\u001b[0;34m\",\"\u001b[0m\u001b[0;34m)\u001b[0m\u001b[0;34m\u001b[0m\u001b[0;34m\u001b[0m\u001b[0m\n\u001b[0;32m----> 5\u001b[0;31m \u001b[0mprint\u001b[0m\u001b[0;34m(\u001b[0m\u001b[0mhead\u001b[0m\u001b[0;34m(\u001b[0m\u001b[0mtrainpd\u001b[0m\u001b[0;34m)\u001b[0m\u001b[0;34m)\u001b[0m\u001b[0;34m\u001b[0m\u001b[0;34m\u001b[0m\u001b[0m\n\u001b[0m\u001b[1;32m      6\u001b[0m \u001b[0;34m\u001b[0m\u001b[0m\n\u001b[1;32m      7\u001b[0m \u001b[0mtest\u001b[0m \u001b[0;34m=\u001b[0m \u001b[0;34m\"https://raw.githubusercontent.com/vbayarri/SpainAI_2020_reto_NLP/main/0.Dataset/test_descriptions.csv\"\u001b[0m\u001b[0;34m\u001b[0m\u001b[0;34m\u001b[0m\u001b[0m\n",
            "\u001b[0;31mNameError\u001b[0m: name 'head' is not defined"
          ]
        }
      ]
    }
  ]
}